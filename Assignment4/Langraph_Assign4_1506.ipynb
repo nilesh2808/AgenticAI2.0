{
 "cells": [
  {
   "cell_type": "code",
   "execution_count": 30,
   "id": "1125691a",
   "metadata": {},
   "outputs": [],
   "source": [
    "from dotenv import load_dotenv\n",
    "load_dotenv()\n",
    "import os\n",
    "os.environ['OPENAI_API_KEY'] = os.getenv(\"OPENAI_API_KEY\")\n",
    "os.environ['OPENWEATHER_API_KEY'] = os.getenv(\"OPENWEATHER_API_KEY\")\n",
    "os.environ['EXCHANGERATE_BASE_URL'] = os.getenv(\"EXCHANGERATE_BASE_URL\")\n",
    "os.environ['TAVILY_API_KEY'] = os.getenv(\"TAVILY_API_KEY\")\n",
    "os.environ['GPLACES_API_KEY'] = os.getenv(\"GPLACES_API_KEY\")\n",
    "os.environ['SERPAPI_API_KEY'] = os.getenv(\"SERPAPI_API_KEY\")\n",
    "os.environ['SERPER_API_KEY'] = os.getenv(\"SERPER_API_KEY\")\n",
    "\n",
    "import pyowm\n",
    "import pyowm\n",
    "import logging"
   ]
  },
  {
   "cell_type": "code",
   "execution_count": 31,
   "id": "ae04ea1b",
   "metadata": {},
   "outputs": [],
   "source": [
    "# Set up logging\n",
    "logging.basicConfig(level=logging.ERROR)\n",
    "logger = logging.getLogger(__name__)"
   ]
  },
  {
   "cell_type": "code",
   "execution_count": 32,
   "id": "c99e1b10",
   "metadata": {},
   "outputs": [],
   "source": [
    "from langchain_openai import ChatOpenAI\n",
    "llm=  ChatOpenAI(model=\"gpt-4\")"
   ]
  },
  {
   "cell_type": "code",
   "execution_count": 33,
   "id": "d2fcff77",
   "metadata": {},
   "outputs": [
    {
     "name": "stdout",
     "output_type": "stream",
     "text": [
      "Hello! How can I assist you today?\n"
     ]
    }
   ],
   "source": [
    "print(llm.invoke(\"hi\").content)"
   ]
  },
  {
   "cell_type": "code",
   "execution_count": 34,
   "id": "8e51046c",
   "metadata": {},
   "outputs": [],
   "source": [
    "from langchain_core.tools import tool\n",
    "from langchain_core.messages import HumanMessage, AIMessage, SystemMessage\n",
    "from langgraph.graph import StateGraph,MessagesState,START,END\n",
    "from langgraph.prebuilt import ToolNode,tools_condition\n",
    "from langchain_community.document_loaders import WeatherDataLoader\n",
    "from langchain_community.tools.tavily_search import TavilySearchResults\n",
    "from typing_extensions import Literal"
   ]
  },
  {
   "cell_type": "markdown",
   "id": "534a40a5",
   "metadata": {},
   "source": [
    "##### Search using DuckDuckGo - In-bult tool"
   ]
  },
  {
   "cell_type": "code",
   "execution_count": null,
   "id": "ff460927",
   "metadata": {},
   "outputs": [],
   "source": [
    "%pip install duckduckgo_search"
   ]
  },
  {
   "cell_type": "code",
   "execution_count": 37,
   "id": "cd36814b",
   "metadata": {},
   "outputs": [],
   "source": [
    "from langchain_community.tools import DuckDuckGoSearchRun\n",
    "search_inbuilt=DuckDuckGoSearchRun()"
   ]
  },
  {
   "cell_type": "markdown",
   "id": "bff6bd4c",
   "metadata": {},
   "source": [
    "#### Search internet using Telviv"
   ]
  },
  {
   "cell_type": "code",
   "execution_count": 38,
   "id": "2ebba61a",
   "metadata": {},
   "outputs": [],
   "source": [
    "# Define a Tavily search tool\n",
    "\n",
    "TAVILY_API_KEY = os.getenv(\"TAVILY_API_KEY\")\n",
    "\n",
    "@tool\n",
    "def get_travel_details(query: str) -> str:\n",
    "    \"\"\"Search the internet for the given query and return relevant results.\"\"\"\n",
    "    search = TavilySearchResults(\n",
    "        api_key=TAVILY_API_KEY,\n",
    "        max_results=5  # Limit the number of results\n",
    "    )\n",
    "    try:\n",
    "        results = search.invoke(query)\n",
    "        formatted_results = \"\"\n",
    "        for res in results:\n",
    "            formatted_results += f\"Source: {res.get('url', 'No URL')}\\n\"\n",
    "            formatted_results += f\"Title: {res.get('title', 'No Title')}\\n\"\n",
    "            formatted_results += f\"Content: {res.get('content', 'No Content')}\\n\\n\"\n",
    "        return formatted_results if formatted_results else \"No results found.\"\n",
    "    except Exception as e:\n",
    "        return f\"Error searching the internet: {str(e)}\""
   ]
  },
  {
   "cell_type": "markdown",
   "id": "9e254e49",
   "metadata": {},
   "source": [
    "#### Test Travel Details Tool"
   ]
  },
  {
   "cell_type": "code",
   "execution_count": null,
   "id": "bb5b6a63",
   "metadata": {},
   "outputs": [],
   "source": [
    "#get_travel_details(\"\")"
   ]
  },
  {
   "cell_type": "markdown",
   "id": "9e6ea53d",
   "metadata": {},
   "source": [
    "#### Fetch Weather Details"
   ]
  },
  {
   "cell_type": "code",
   "execution_count": 39,
   "id": "aa08390f",
   "metadata": {},
   "outputs": [],
   "source": [
    "import requests\n",
    "from datetime import datetime, timedelta, timezone\n",
    "from collections import defaultdict\n",
    "\n",
    "OPENWEATHER_API_KEY = os.getenv(\"OPENWEATHER_API_KEY\")\n",
    "OPENWEATHERMAP_BASE_URL = os.getenv(\"OPENWEATHERMAP_BASE_URL\")\n",
    "\n",
    "@tool\n",
    "def get_weather(city:str):\n",
    "\n",
    "    \"\"\"\n",
    "    Fetches the current and next 3 days temperature in celcius using base URL.\n",
    "\n",
    "    Args:\n",
    "        City (str): Any city (e.g., 'Mumbai', 'New York', 'Londor').\n",
    "\n",
    "    Parameters:\n",
    "        city, OpenWeatherMap API Key, units(celcius, farahedes)\n",
    "\n",
    "    Returns:\n",
    "        str: A message with current and next 3 temerature.\n",
    "    \"\"\"\n",
    "\n",
    "    try:\n",
    "\n",
    "        base_url = OPENWEATHERMAP_BASE_URL\n",
    "        params = {\n",
    "            \"q\": city,\n",
    "            \"appid\": OPENWEATHER_API_KEY,\n",
    "            \"units\": \"metric\"\n",
    "        }\n",
    "\n",
    "        response = requests.get(base_url, params=params)\n",
    "        data = response.json()\n",
    "\n",
    "        if response.status_code != 200:\n",
    "            print(\"Error:\", data.get(\"message\", \"Failed to fetch weather data\"))\n",
    "            return\n",
    "    \n",
    "        # Current temperature from the first forecast entry\n",
    "        current = data[\"list\"][0]\n",
    "        \n",
    "        CurrentTemperature = f\"Current temperature in {city}: {current['main']['temp']}°C \\nWeather: {current['weather'][0]['description'].title()} \\n\"\n",
    "\n",
    "        #print(f\"Current temperature in {city}: {current['main']['temp']}°C\")\n",
    "        #print(f\"Weather: {current['weather'][0]['description'].title()}\")\n",
    "\n",
    "        # Calculate average temperature for the next 3 days\n",
    "        forecast_by_day = defaultdict(list)\n",
    "        today = datetime.now(timezone.utc).date() #datetime.utcnow().date()\n",
    "\n",
    "        for entry in data[\"list\"]:\n",
    "            dt = datetime.strptime(entry[\"dt_txt\"], \"%Y-%m-%d %H:%M:%S\")\n",
    "            date = dt.date()\n",
    "            if today < date <= today + timedelta(days=3):\n",
    "                forecast_by_day[date].append(entry[\"main\"][\"temp\"])\n",
    "\n",
    "        #print(\"Average temperature forecast for the next 3 days:\")\n",
    "        AvgTempTitle = \"Average temperature forecast for the next 3 days in {city}: \\n\"\n",
    "        AvgTempDaily = []\n",
    "        for date in sorted(forecast_by_day.keys()):\n",
    "            temps = forecast_by_day[date]\n",
    "            avg_temp = sum(temps) / len(temps)\n",
    "            #print(f\"{date}: {avg_temp:.2f}°C\")\n",
    "            AvgTempDaily.append(f\"{date}: {avg_temp:.2f}°C \\n\")\n",
    "\n",
    "        resullt = f\"{CurrentTemperature}{AvgTempTitle}{\"\".join(AvgTempDaily)}\"\n",
    "\n",
    "        return resullt\n",
    "\n",
    "    except Exception as e:\n",
    "        logger.error(f\"Failed to fetch weather Data: {str(e)}\")\n",
    "        raise ValueError(\"Failed to initialize reuqest to site. Check API key and base URL.\")\n",
    "\n",
    "    \n"
   ]
  },
  {
   "cell_type": "markdown",
   "id": "392bb527",
   "metadata": {},
   "source": [
    "#### Debug the above tool - get_weather"
   ]
  },
  {
   "cell_type": "code",
   "execution_count": null,
   "id": "64bbbb42",
   "metadata": {},
   "outputs": [],
   "source": [
    "result = get_weather(\"Mumbai\")\n",
    "print(result)"
   ]
  },
  {
   "cell_type": "markdown",
   "id": "5e16bdf6",
   "metadata": {},
   "source": [
    "#### Exchange rate and amount"
   ]
  },
  {
   "cell_type": "code",
   "execution_count": 40,
   "id": "53fc8899",
   "metadata": {},
   "outputs": [],
   "source": [
    "EXCHANGERATE_BASE_URL = os.getenv(\"EXCHANGERATE_BASE_URL\")\n",
    "\n",
    "@tool\n",
    "#def fetch_rate_node(currencyinfo: dict):\n",
    "def get_currency_rate(from_currency: str,to_currency: str, amount_to_convert:float):\n",
    "    \"\"\"\n",
    "    return currency rate and converted amount as per the rate using exchange rate api base URL.\n",
    "\n",
    "    Args:\n",
    "        from_currency (str): (e.g., 'USD', 'AUD', 'EUR').\n",
    "        to_currency (str): (e.g., 'INR', 'SAR', 'TWD').\n",
    "        amount_to_convert: amount to be coverted as currency rate\n",
    "\n",
    "\n",
    "   Returns:\n",
    "        str: A message with currency rate and converted amount if rate exist.\n",
    "    \"\"\"\n",
    "\n",
    "    from_currency = from_currency #currencyinfo[\"from_currency\"] #state[\"from\"]\n",
    "    to_currency = to_currency #currencyinfo[\"to_currency\"] #state[\"to\"]\n",
    "    url = f\"{EXCHANGERATE_BASE_URL}{from_currency}\"\n",
    "    response = requests.get(url).json()\n",
    "    rate = response[\"rates\"].get(to_currency)\n",
    "    rate_message = f\"The conversion rate from {from_currency} currency to {to_currency}  is {rate}\"\n",
    "\n",
    "    if rate > 0 and amount_to_convert > 0:\n",
    "        amount_converted = rate * amount_to_convert\n",
    "        amount_message = f\"and the total conversion amount is {amount_converted}\"\n",
    "\n",
    "    response = f\"{rate_message} {amount_message}\"\n",
    "    return response"
   ]
  },
  {
   "cell_type": "markdown",
   "id": "c4e8a371",
   "metadata": {},
   "source": [
    "#### Search Places and Attraction API configuration"
   ]
  },
  {
   "cell_type": "code",
   "execution_count": 41,
   "id": "c1b13ff3",
   "metadata": {},
   "outputs": [
    {
     "name": "stderr",
     "output_type": "stream",
     "text": [
      "C:\\Users\\Neelam\\AppData\\Local\\Temp\\ipykernel_32672\\3231056273.py:5: LangChainDeprecationWarning: The class `GooglePlacesAPIWrapper` was deprecated in LangChain 0.0.33 and will be removed in 1.0. An updated version of the class exists in the :class:`~langchain-google-community package and should be used instead. To use it run `pip install -U :class:`~langchain-google-community` and import as `from :class:`~langchain_google_community import GooglePlacesAPIWrapper``.\n",
      "  places_search = GooglePlacesAPIWrapper()\n"
     ]
    }
   ],
   "source": [
    "#from langchain_google_community import GooglePlacesTool,GooglePlacesAPIWrapper,\n",
    "from langchain_community.utilities import GooglePlacesAPIWrapper,SerpAPIWrapper, GoogleSerperAPIWrapper\n",
    "\n",
    "# Initialize the API wrapper - Google Places\n",
    "places_search = GooglePlacesAPIWrapper()\n",
    "\n",
    "# Initialize the SerpAPI wrapper\n",
    "serp_search = SerpAPIWrapper()\n",
    "\n",
    "serper_search = GoogleSerperAPIWrapper()"
   ]
  },
  {
   "cell_type": "markdown",
   "id": "532f4daa",
   "metadata": {},
   "source": [
    "#### Places attractions"
   ]
  },
  {
   "cell_type": "code",
   "execution_count": 42,
   "id": "a1a3d7ef",
   "metadata": {},
   "outputs": [],
   "source": [
    "\n",
    "@tool\n",
    "def get_attractions(city: str) -> str:\n",
    "    \"\"\"Search for top attractions in a city using real-time data\"\"\"\n",
    "    query = f\"top attractions activities things to do in {city}\"\n",
    "    \n",
    "    # Try Google Places first for real-time data\n",
    "    if places_search:\n",
    "        try:\n",
    "            places_result = places_search.run(f\"tourist attractions in {city}\")\n",
    "            if places_result and len(places_result) > 50:\n",
    "                return f\"Real-time attractions data: {places_result}\"\n",
    "        except Exception:\n",
    "            pass\n",
    "    \n",
    "    # Try SerpAPI for fresh Google results\n",
    "    if serp_search:\n",
    "        try:\n",
    "            serp_result = serp_search.run(query)\n",
    "            if serp_result and len(serp_result) > 50:\n",
    "                return f\"Latest search results: {serp_result}\"\n",
    "        except Exception:\n",
    "            pass\n",
    "    \n",
    "    # Try Google Serper\n",
    "    if serper_search:\n",
    "        try:\n",
    "            serper_result = serper_search.run(query)\n",
    "            if serper_result and len(serp_result) > 50:\n",
    "                return f\"Current search data: {serper_result}\"\n",
    "        except Exception:\n",
    "            pass\n"
   ]
  },
  {
   "cell_type": "markdown",
   "id": "4374901b",
   "metadata": {},
   "source": [
    "#### Test Attraction Tool"
   ]
  },
  {
   "cell_type": "code",
   "execution_count": null,
   "id": "01286690",
   "metadata": {},
   "outputs": [],
   "source": [
    "input = \"Rome\"\n",
    "\n",
    "result = get_attractions(input)\n",
    "\n",
    "result"
   ]
  },
  {
   "cell_type": "markdown",
   "id": "25959d07",
   "metadata": {},
   "source": [
    "#### Search Restaurant in the City"
   ]
  },
  {
   "cell_type": "code",
   "execution_count": 43,
   "id": "d59cfa54",
   "metadata": {},
   "outputs": [],
   "source": [
    "@tool\n",
    "def get_restaurants(city: str) -> str:\n",
    "    \"\"\"Search for restaurants in a city using real-time data\"\"\"\n",
    "    query = f\"best restaurants food places to eat in {city}\"\n",
    "    \n",
    "    # Try Google Places for real-time restaurant data\n",
    "    if places_search:\n",
    "        try:\n",
    "            places_result = places_search.run(f\"restaurants in {city}\")\n",
    "            if places_result and len(places_result) > 50:\n",
    "                return f\"Real-time restaurant data: {places_result}\"\n",
    "        except Exception:\n",
    "            pass\n",
    "    \n",
    "    # Try SerpAPI for current results\n",
    "    if serp_search:\n",
    "        try:\n",
    "            serp_result = serp_search.run(query)\n",
    "            if serp_result and len(serp_result) > 50:\n",
    "                return f\"Latest restaurant results: {serp_result}\"\n",
    "        except Exception:\n",
    "            pass\n",
    "    \n",
    "    # search using DuckDuckGo\n",
    "    return search_inbuilt.invoke(query)"
   ]
  },
  {
   "cell_type": "markdown",
   "id": "d52e678b",
   "metadata": {},
   "source": [
    "#### Test restaurants Tool"
   ]
  },
  {
   "cell_type": "code",
   "execution_count": null,
   "id": "a30cf61a",
   "metadata": {},
   "outputs": [],
   "source": [
    "result = get_restaurants(\"Mumbai\")\n",
    "\n",
    "result"
   ]
  },
  {
   "cell_type": "markdown",
   "id": "a40759fc",
   "metadata": {},
   "source": [
    "#### Get hotel information in the selected city"
   ]
  },
  {
   "cell_type": "code",
   "execution_count": 44,
   "id": "d7cbb3d7",
   "metadata": {},
   "outputs": [],
   "source": [
    "@tool\n",
    "def get_hotels_info(city: str, budget_range: str = \"mid-range\") -> str:\n",
    "    \"\"\"Search for hotels in a city with budget range using real-time data\"\"\"\n",
    "    query = f\"{budget_range} hotels accommodation {city} price per night booking availability\"\n",
    "    \n",
    "    # Try SerpAPI for real-time hotel prices and availability\n",
    "    if serp_search:\n",
    "        try:\n",
    "            serp_result = serp_search.run(query)\n",
    "            if serp_result and len(serp_result) > 50:\n",
    "                return f\"Real-time hotel data: {serp_result}\"\n",
    "        except Exception:\n",
    "            pass\n",
    "    \n",
    "    # Try Google Places for hotel information\n",
    "    if places_search:\n",
    "        try:\n",
    "            places_result = places_search.run(f\"hotels in {city}\")\n",
    "            if places_result and len(places_result) > 50:\n",
    "                return f\"Current hotel listings: {places_result}\"\n",
    "        except Exception:\n",
    "            pass\n",
    "    \n",
    "    # Try Google Serper\n",
    "    if serper_search:\n",
    "        try:\n",
    "            serper_result = serper_search.run(query)\n",
    "            if serper_result and len(serp_result) > 50:\n",
    "                return f\"Latest hotel availability: {serper_result}\"\n",
    "        except Exception:\n",
    "            pass\n",
    "    \n",
    "    # Fallback to DuckDuckGo\n",
    "    return search_inbuilt.invoke(query)"
   ]
  },
  {
   "cell_type": "markdown",
   "id": "8bb0a8fa",
   "metadata": {},
   "source": [
    "#### Search Transportation in the city"
   ]
  },
  {
   "cell_type": "code",
   "execution_count": 45,
   "id": "496ab40a",
   "metadata": {},
   "outputs": [],
   "source": [
    "@tool\n",
    "def get_transportation(city: str) -> str:\n",
    "    \"\"\"Search for transportation options in a city using real-time data\"\"\"\n",
    "    query = f\"transportation options getting around {city} public transport taxi uber\"\n",
    "    \n",
    "    # Try SerpAPI for current transportation info\n",
    "    if serp_search:\n",
    "        try:\n",
    "            serp_result = serp_search.run(query)\n",
    "            if serp_result and len(serp_result) > 50:\n",
    "                return f\"Current transportation info: {serp_result}\"\n",
    "        except Exception:\n",
    "            pass\n",
    "    \n",
    "    # Try Google Serper\n",
    "    if serper_search:\n",
    "        try:\n",
    "            serper_result = serper_search.run(query)\n",
    "            if serper_result and len(serp_result) > 50:\n",
    "                return f\"Latest transport data: {serper_result}\"\n",
    "        except Exception:\n",
    "            pass\n",
    "    \n",
    "    # Search using DuckDuckGo\n",
    "    return search_inbuilt.invoke(query)"
   ]
  },
  {
   "cell_type": "markdown",
   "id": "4299ecd7",
   "metadata": {},
   "source": [
    "##### debug exchange rate and amount"
   ]
  },
  {
   "cell_type": "code",
   "execution_count": null,
   "id": "7c1fbdc2",
   "metadata": {},
   "outputs": [
    {
     "data": {
      "text/plain": [
       "'The conversion rate from USD currency to INR  is 86.49 and the total conversion amount is 43245.0'"
      ]
     },
     "execution_count": 12,
     "metadata": {},
     "output_type": "execute_result"
    }
   ],
   "source": [
    "input = {\"from_currency\":\"USD\",\"to_currency\":\"INR\",\"amount_to_convert\":500}\n",
    "\n",
    "fetch_rate_node(input)"
   ]
  },
  {
   "cell_type": "markdown",
   "id": "dd4dc550",
   "metadata": {},
   "source": [
    "#### Tool to calculate Travel expenses"
   ]
  },
  {
   "cell_type": "code",
   "execution_count": 46,
   "id": "142037a4",
   "metadata": {},
   "outputs": [],
   "source": [
    "\n",
    "def add_Numbers(a: float, b: float) -> float:\n",
    "    \"\"\"Add two numbers\"\"\"\n",
    "    return a + b\n",
    "\n",
    "def multiply_Numbers(a: float, b: float) -> float:\n",
    "    \"\"\"Multiply two numbers\"\"\"\n",
    "    return a * b\n",
    "\n",
    "def calculate_total_cost(*costs: float) -> float:\n",
    "    \"\"\"Calculate total cost from multiple expenses\"\"\"\n",
    "    return sum(costs)\n",
    "\n",
    "def calculate_daily_budget(total_cost: float, days: int) -> float:\n",
    "    \"\"\"Calculate daily budget\"\"\"\n",
    "    return total_cost / days if days > 0 else 0\n",
    "\n",
    "\n",
    "@tool\n",
    "def estimate_hotel_cost(price_per_night: float, total_days: int) -> float:\n",
    "    \"\"\"Calculate total hotel cost\"\"\"\n",
    "    return multiply_Numbers(price_per_night, total_days)\n",
    "\n",
    "@tool\n",
    "def add_costs(cost1: float, cost2: float) -> float:\n",
    "    \"\"\"Add two costs together\"\"\"\n",
    "    return add_Numbers(cost1, cost2)\n",
    "\n",
    "@tool\n",
    "def multiply_costs(cost: float, multiplier: float) -> float:\n",
    "    \"\"\"Multiply cost by a multiplier\"\"\"\n",
    "    return multiply_Numbers(cost, multiplier)\n",
    "\n",
    "@tool\n",
    "def calculate_total_expense(*costs: float) -> float:\n",
    "    \"\"\"Calculate total expense from multiple costs\"\"\"\n",
    "    return calculate_total_cost(*costs)\n",
    "\n",
    "@tool\n",
    "def calculate_daily_budget(total_cost: float, days: int) -> float:\n",
    "    \"\"\"Calculate daily budget\"\"\"\n",
    "    return calculate_daily_budget(total_cost, days)"
   ]
  },
  {
   "cell_type": "code",
   "execution_count": 47,
   "id": "6992eb73",
   "metadata": {},
   "outputs": [],
   "source": [
    "@tool\n",
    "def create_day_plan(city: str, day_number: int, attractions: str, weather: str) -> str:\n",
    "    \"\"\"Create a day plan for the trip\"\"\"\n",
    "    return f\"Day {day_number} in {city}:\\n\" \\\n",
    "            f\"Weather: {weather}\\n\" \\\n",
    "            f\"Recommended activities: {attractions[:200]}...\\n\" \\\n",
    "            f\"Tips: Plan indoor activities if weather is poor.\""
   ]
  },
  {
   "cell_type": "markdown",
   "id": "c6a31f25",
   "metadata": {},
   "source": [
    "#### Test the Travel calculator tools"
   ]
  },
  {
   "cell_type": "code",
   "execution_count": null,
   "id": "67474788",
   "metadata": {},
   "outputs": [],
   "source": []
  },
  {
   "cell_type": "markdown",
   "id": "99cad184",
   "metadata": {},
   "source": [
    "#### Add Tools and then bind these tools with LLM"
   ]
  },
  {
   "cell_type": "code",
   "execution_count": 63,
   "id": "18a9dc2f",
   "metadata": {},
   "outputs": [],
   "source": [
    "#tools=[multiply,add, divide, search,get_weather,fetch_rate_node]\n",
    "tools=[get_attractions, get_restaurants, get_transportation,get_weather, get_hotels_info,estimate_hotel_cost, add_costs, multiply_costs,\n",
    "        calculate_total_expense,calculate_daily_budget, get_currency_rate, create_day_plan]\n",
    "\n",
    "#tools=[get_attractions]\n",
    "llm_with_tools = llm.bind_tools(tools)\n",
    "\n"
   ]
  },
  {
   "cell_type": "markdown",
   "id": "a3fed2f7",
   "metadata": {},
   "source": [
    "#### Start function of agent with System Prompt"
   ]
  },
  {
   "cell_type": "code",
   "execution_count": 49,
   "id": "6cc6a4d3",
   "metadata": {},
   "outputs": [],
   "source": [
    "system_prompt = SystemMessage(\n",
    "    content=\"\"\"You are a helpful AI Travel Agent and Expense Planner. \n",
    "    You help users plan trips to any city worldwide with real-time data.\n",
    "    \n",
    "    IMPORTANT: Always provide COMPLETE and DETAILED travel plans. Never say \"I'll prepare\" or \"hold on\". \n",
    "    Give full information immediately including:\n",
    "    - Complete day-by-day itinerary\n",
    "    - Specific attractions with details\n",
    "    - Restaurant recommendations with prices\n",
    "    - Detailed cost breakdown\n",
    "    - Transportation information\n",
    "    - Weather details\n",
    "    \n",
    "    Use the available tools to gather real-time information and make accurate calculations.\n",
    "    Provide everything in one comprehensive response formatted in clean Markdown.\n",
    "    \"\"\"\n",
    ")"
   ]
  },
  {
   "cell_type": "code",
   "execution_count": 50,
   "id": "102b4daf",
   "metadata": {},
   "outputs": [],
   "source": [
    "def main_agent_function(state: MessagesState):\n",
    "    \"\"\"Main agent function\"\"\"\n",
    "    user_question = state[\"messages\"]\n",
    "    input_question = [system_prompt] + user_question\n",
    "    response = llm_with_tools.invoke(input_question)\n",
    "    return {\"messages\": [response]}"
   ]
  },
  {
   "cell_type": "markdown",
   "id": "c2a1fbf7",
   "metadata": {},
   "source": [
    "##### Call 'should_continue' to check whether to continue or end flow"
   ]
  },
  {
   "cell_type": "code",
   "execution_count": 51,
   "id": "a9e4b323",
   "metadata": {},
   "outputs": [],
   "source": [
    "def should_continue(state: MessagesState) -> Literal[\"tools\", \"__end__\"]:\n",
    "    \"\"\"Enhanced decision function for when to continue or end\"\"\"\n",
    "    last_message = state[\"messages\"][-1]\n",
    "    \n",
    "    # If it's a tool call, continue to tools\n",
    "    if hasattr(last_message, 'tool_calls') and last_message.tool_calls:\n",
    "        return \"tools\"\n",
    "    \n",
    "    # Check if response seems complete\n",
    "    content = last_message.content.lower()\n",
    "    \n",
    "    # Indicators that we need more information\n",
    "    incomplete_phrases = [\n",
    "        \"let me search\",\n",
    "        \"i'll look up\",\n",
    "        \"please hold on\",\n",
    "        \"i'll prepare\",\n",
    "        \"let me gather\",\n",
    "        \"i need to check\"\n",
    "    ]\n",
    "\n",
    "    # If response contains incomplete phrases, continue\n",
    "    if any(phrase in content for phrase in incomplete_phrases):\n",
    "        return \"tools\"\n",
    "    \n",
    "    # Check if response is too short (likely incomplete)\n",
    "    if len(last_message.content) < 500:\n",
    "        return \"tools\"\n",
    "    \n",
    "    # Check if we have essential travel info\n",
    "    essential_keywords = [\"hotel\", \"attraction\", \"cost\", \"weather\", \"itinerary\"]\n",
    "    has_essential_info = sum(1 for keyword in essential_keywords if keyword in content) >= 3\n",
    "    \n",
    "    if not has_essential_info:\n",
    "        return \"tools\"\n",
    "    \n",
    "    # Response seems complete, end the workflow\n",
    "    return \"__end__\""
   ]
  },
  {
   "cell_type": "markdown",
   "id": "6d4bd5a3",
   "metadata": {},
   "source": [
    "##### Add Tool in tool node to work as node"
   ]
  },
  {
   "cell_type": "code",
   "execution_count": 64,
   "id": "48de7ae0",
   "metadata": {},
   "outputs": [
    {
     "data": {
      "text/plain": [
       "tools(tags=None, recurse=True, explode_args=False, func_accepts_config=True, func_accepts={'store': ('__pregel_store', None)}, tools_by_name={'get_attractions': StructuredTool(name='get_attractions', description='Search for top attractions in a city using real-time data', args_schema=<class 'langchain_core.utils.pydantic.get_attractions'>, func=<function get_attractions at 0x0000021E3B19AC00>), 'get_restaurants': StructuredTool(name='get_restaurants', description='Search for restaurants in a city using real-time data', args_schema=<class 'langchain_core.utils.pydantic.get_restaurants'>, func=<function get_restaurants at 0x0000021E3366BEC0>), 'get_transportation': StructuredTool(name='get_transportation', description='Search for transportation options in a city using real-time data', args_schema=<class 'langchain_core.utils.pydantic.get_transportation'>, func=<function get_transportation at 0x0000021E3B198CC0>), 'get_weather': StructuredTool(name='get_weather', description=\"Fetches the current and next 3 days temperature in celcius using base URL.\\n\\nArgs:\\n    City (str): Any city (e.g., 'Mumbai', 'New York', 'Londor').\\n\\nParameters:\\n    city, OpenWeatherMap API Key, units(celcius, farahedes)\\n\\nReturns:\\n    str: A message with current and next 3 temerature.\", args_schema=<class 'langchain_core.utils.pydantic.get_weather'>, func=<function get_weather at 0x0000021E3B199C60>), 'get_hotels_info': StructuredTool(name='get_hotels_info', description='Search for hotels in a city with budget range using real-time data', args_schema=<class 'langchain_core.utils.pydantic.get_hotels_info'>, func=<function get_hotels_info at 0x0000021E3B1DFCE0>), 'estimate_hotel_cost': StructuredTool(name='estimate_hotel_cost', description='Calculate total hotel cost', args_schema=<class 'langchain_core.utils.pydantic.estimate_hotel_cost'>, func=<function estimate_hotel_cost at 0x0000021E3366B740>), 'add_costs': StructuredTool(name='add_costs', description='Add two costs together', args_schema=<class 'langchain_core.utils.pydantic.add_costs'>, func=<function add_costs at 0x0000021E3366A980>), 'multiply_costs': StructuredTool(name='multiply_costs', description='Multiply cost by a multiplier', args_schema=<class 'langchain_core.utils.pydantic.multiply_costs'>, func=<function multiply_costs at 0x0000021E3366B920>), 'calculate_total_expense': StructuredTool(name='calculate_total_expense', description='Calculate total expense from multiple costs', args_schema=<class 'langchain_core.utils.pydantic.calculate_total_expense'>, func=<function calculate_total_expense at 0x0000021E3366B1A0>), 'calculate_daily_budget': StructuredTool(name='calculate_daily_budget', description='Calculate daily budget', args_schema=<class 'langchain_core.utils.pydantic.calculate_daily_budget'>, func=<function calculate_daily_budget at 0x0000021E3366ADE0>), 'get_currency_rate': StructuredTool(name='get_currency_rate', description=\"return currency rate and converted amount as per the rate using exchange rate api base URL.\\n\\n Args:\\n     from_currency (str): (e.g., 'USD', 'AUD', 'EUR').\\n     to_currency (str): (e.g., 'INR', 'SAR', 'TWD').\\n     amount_to_convert: amount to be coverted as currency rate\\n\\n\\nReturns:\\n     str: A message with currency rate and converted amount if rate exist.\", args_schema=<class 'langchain_core.utils.pydantic.get_currency_rate'>, func=<function get_currency_rate at 0x0000021E3B199DA0>), 'create_day_plan': StructuredTool(name='create_day_plan', description='Create a day plan for the trip', args_schema=<class 'langchain_core.utils.pydantic.create_day_plan'>, func=<function create_day_plan at 0x0000021E3B1999E0>)}, tool_to_state_args={'get_attractions': {}, 'get_restaurants': {}, 'get_transportation': {}, 'get_weather': {}, 'get_hotels_info': {}, 'estimate_hotel_cost': {}, 'add_costs': {}, 'multiply_costs': {}, 'calculate_total_expense': {}, 'calculate_daily_budget': {}, 'get_currency_rate': {}, 'create_day_plan': {}}, tool_to_store_arg={'get_attractions': None, 'get_restaurants': None, 'get_transportation': None, 'get_weather': None, 'get_hotels_info': None, 'estimate_hotel_cost': None, 'add_costs': None, 'multiply_costs': None, 'calculate_total_expense': None, 'calculate_daily_budget': None, 'get_currency_rate': None, 'create_day_plan': None}, handle_tool_errors=True, messages_key='messages')"
      ]
     },
     "execution_count": 64,
     "metadata": {},
     "output_type": "execute_result"
    }
   ],
   "source": [
    "tool_node=ToolNode(tools)\n",
    "tool_node"
   ]
  },
  {
   "cell_type": "markdown",
   "id": "7aeb5128",
   "metadata": {},
   "source": [
    "## create Workflow "
   ]
  },
  {
   "cell_type": "code",
   "execution_count": 65,
   "id": "4e0785b0",
   "metadata": {},
   "outputs": [],
   "source": [
    "Travelflow = StateGraph(MessagesState)\n",
    "\n",
    "Travelflow.add_node(\"llm_decision_step\",main_agent_function)\n",
    "Travelflow.add_node(\"tools\",tool_node)\n",
    "\n",
    "Travelflow.add_edge(START,\"llm_decision_step\")\n",
    "\n",
    "Travelflow.add_conditional_edges(\"llm_decision_step\",tools_condition,)\n",
    "#Travelflow.add_conditional_edges(\"agent\", should_continue)\n",
    "\n",
    "Travelflow.add_edge(\"tools\",\"llm_decision_step\")\n",
    "\n",
    "TravelAgent = Travelflow.compile()"
   ]
  },
  {
   "cell_type": "code",
   "execution_count": 66,
   "id": "8dcb9f7d",
   "metadata": {},
   "outputs": [
    {
     "data": {
      "image/png": "[encoded data removed]",
      "text/plain": [
       "<IPython.core.display.Image object>"
      ]
     },
     "metadata": {},
     "output_type": "display_data"
    }
   ],
   "source": [
    "from IPython.display import Image, display\n",
    "display(Image(TravelAgent.get_graph().draw_mermaid_png()))"
   ]
  },
  {
   "cell_type": "markdown",
   "id": "4adbc8d5",
   "metadata": {},
   "source": [
    "#### If workflow is failed then call below fallback function"
   ]
  },
  {
   "cell_type": "code",
   "execution_count": 55,
   "id": "71cf2d9d",
   "metadata": {},
   "outputs": [],
   "source": [
    "def contigency_planner_Call(self, user_input: str) -> str:\n",
    "    \"\"\"Fallback method if workflow fails\"\"\"\n",
    "    fallback_prompt = f\"\"\"\n",
    "    Create a complete travel plan for: {user_input}\n",
    "    \n",
    "    Provide a comprehensive response including:\n",
    "    - Daily itinerary\n",
    "    - Top attractions\n",
    "    - Restaurant recommendations  \n",
    "    - Cost estimates\n",
    "    - Weather information\n",
    "    - Transportation details\n",
    "    \n",
    "    Format your response in clean Markdown with proper headers, lists, and formatting.\n",
    "    Use your knowledge to provide helpful estimates even without real-time data.\n",
    "    \"\"\"\n",
    "    \n",
    "    messages = [system_prompt, HumanMessage(content=fallback_prompt)]\n",
    "    response = llm_with_tools.invoke(messages)\n",
    "    return response.content"
   ]
  },
  {
   "cell_type": "code",
   "execution_count": 76,
   "id": "c4002c5c",
   "metadata": {},
   "outputs": [],
   "source": [
    "def Trip_Planner_Call(user_input: str, max_iterations: int = 5) -> str:\n",
    "    \"\"\"Main function to plan a trip with iteration control\"\"\"\n",
    "    messages = [HumanMessage(content=user_input)]\n",
    "    \n",
    "    # Add iteration counter to prevent infinite loops\n",
    "    config = {\"recursion_limit\": max_iterations}\n",
    "    \n",
    "    try:\n",
    "        response = TravelAgent.invoke({\"messages\": messages}, config=config)\n",
    "        final_response = response[\"messages\"][-1].content\n",
    "\n",
    "        # Final check - if still incomplete, force a summary\n",
    "        if len(final_response) < 800:\n",
    "            summary_prompt = f\"\"\"\n",
    "            Based on all the information gathered, provide a COMPLETE travel summary now. \n",
    "            Don't use tools anymore. Use the information you have to create a comprehensive plan.\n",
    "            Format your response in clean Markdown with proper headers, lists, and formatting.\n",
    "            Original request: {user_input}\n",
    "            \"\"\"\n",
    "                \n",
    "            summary_messages = response[\"messages\"] + [HumanMessage(content=summary_prompt)]\n",
    "            final_response_obj = llm_with_tools.invoke(summary_messages)\n",
    "            return final_response_obj.content\n",
    "            \n",
    "        return final_response\n",
    "    \n",
    "    except Exception as e:\n",
    "            print(f\"Workflow error: {e}\")\n",
    "            # Fallback - direct LLM call\n",
    "            return contigency_planner_Call(user_input)\n",
    "            "
   ]
  },
  {
   "cell_type": "markdown",
   "id": "0132098e",
   "metadata": {},
   "source": [
    "#### Convert response in file"
   ]
  },
  {
   "cell_type": "code",
   "execution_count": 75,
   "id": "17665cd4",
   "metadata": {},
   "outputs": [],
   "source": [
    "def export_to_file(self, response_text: str, filename: str = \"travel_plan.md\") -> str:\n",
    "    \"\"\"Export travel plan to Markdown file with proper formatting\"\"\"\n",
    "    from datetime import datetime\n",
    "    \n",
    "    # Create markdown content with metadata header\n",
    "    markdown_content = f\"\"\"# 🌍 AI Travel Plan\n",
    "\n",
    "    **Generated:** {datetime.now().strftime('%Y-%m-%d at %H:%M')}  \n",
    "    **Created by:** Nilesh Agent\n",
    "\n",
    "    ---\n",
    "\n",
    "    {response_text}\n",
    "\n",
    "    ---\n",
    "\n",
    "    *This travel plan was generated by AI. Please verify all information, especially prices, operating hours, and travel requirements before your trip.*\n",
    "    \"\"\"\n",
    "        \n",
    "    try:\n",
    "        # Write to markdown file with UTF-8 encoding\n",
    "        with open(filename, 'w', encoding='utf-8') as f:\n",
    "            f.write(markdown_content)\n",
    "        \n",
    "        print(f\"✅ Markdown file saved as: {filename}\")\n",
    "        return filename\n",
    "        \n",
    "    except Exception as e:\n",
    "        print(f\"❌ Error saving markdown file: {e}\")\n",
    "        return None"
   ]
  },
  {
   "cell_type": "markdown",
   "id": "95732cca",
   "metadata": {},
   "source": [
    "#### User Request/query for required information"
   ]
  },
  {
   "cell_type": "code",
   "execution_count": 77,
   "id": "ab79d039",
   "metadata": {},
   "outputs": [
    {
     "name": "stdout",
     "output_type": "stream",
     "text": [
      "Workflow error: Recursion limit of 5 reached without hitting a stop condition. You can increase the limit by setting the `recursion_limit` config key.\n",
      "For troubleshooting, visit: https://python.langchain.com/docs/troubleshooting/errors/GRAPH_RECURSION_LIMIT\n",
      "❌ Error generating travel plan: contigency_planner_Call() missing 1 required positional argument: 'user_input'\n"
     ]
    }
   ],
   "source": [
    "user_qeuery = \"give me  a detailed 4-day trip itenary to srilanka including best view hotels historic places best food restaurants\" \\\n",
    "\" with  budget of 400 dollars i need budget converted to indian rupees\"\n",
    "\n",
    "try:\n",
    "    # Use enhanced planning method\n",
    "    response = Trip_Planner_Call(user_qeuery, max_iterations=5)\n",
    "    \n",
    "    # Export to Markdown directly - no console spam\n",
    "    \n",
    "    from datetime import datetime\n",
    "    filename = f\"AI_travel_plan_{i}_{datetime.now().strftime('%Y%m%d_%H%M%S')}.md\"\n",
    "    saved_file = export_to_file(response, filename)\n",
    "    \n",
    "    if saved_file:\n",
    "        print(f\"✅ Travel plan generated successfully!\")\n",
    "        print(f\"📄 Saved as: {saved_file}\")\n",
    "        print(f\"📊 Plan length: {len(response)} characters\")\n",
    "    else:\n",
    "        print(\"❌ Failed to save markdown file\")\n",
    "    \n",
    "    \n",
    "except Exception as e:\n",
    "    print(f\"❌ Error generating travel plan: {str(e)}\")\n",
    "\n"
   ]
  },
  {
   "cell_type": "code",
   "execution_count": 71,
   "id": "403291b4",
   "metadata": {},
   "outputs": [
    {
     "data": {
      "text/plain": [
       "'# 4-Day Travel Itinerary to Colombo, Sri Lanka\\n\\n### Budget:\\nYour total budget is $400 which equals 34,720 Indian Rupees.\\n\\n### Transportation:\\nIn Colombo, you can use local taxis or ride-hailing services like Uber and PickMe. The availability might depend on the area, but they can be a good option for longer distances.\\n\\n### Weather:\\n- Current temperature: 28.32°C with Light Rain. \\n- Average temperature forecast for the next 3 days:\\n  - 2025-06-21: 26.94°C \\n  - 2025-06-22: 27.15°C \\n  - 2025-06-23: 27.16°C \\n\\n### Accommodation:\\nYou will be staying at a 3-star hotel. The average price per night ranges from $77 and with 4 days, your total accommodation cost would be around $308 (or 26,770 INR).\\n\\n### Daily Itinerary:\\n- **Day 1:** Visit Gangaramaya Temple and Independence Square. Both these places offer a unique insight into the historical and cultural significance of the city.\\n- **Day 2:** Experience the remarkable views from Colombo Lotus Tower and delve into serene surroundings at Gangarama Sima Malaka.\\n- **Day 3:** Bask in the natural beauty of Viharamahadevi Park and Gangaramaya Park.\\n- **Day 4:** Sail to the Crow Island Beach Park and light up your day at Colombo Galbokka Lighthouse.\\n\\nEach day, plan on spending about $80, including meals, transportation, entrance fees, and miscellaneous expenses.\\n\\n### Food:\\nSavor unique flavors of Sri Lankan cuisine at Graze Kitchen, Monsoon Colombo, and Ministry of Crab among many other choices. A mid-range meal at an average restaurant can cost around $7-$10 per person.\\n\\n### Total Cost Breakdown:\\n- Accommodation: $308 (INR 25,600)\\n- Daily Expenses (Food, transport, entrance fees): $80  (INR 6,944 )\\n- Total: $388 (INR 33,744)\\n\\nThe budget of $400 (INR 34,720) should cover the cost of this trip well, making it a comfortable and exciting journey. Bear in mind this is an approximation, actual prices might vary. Enjoy your trip!'"
      ]
     },
     "execution_count": 71,
     "metadata": {},
     "output_type": "execute_result"
    }
   ],
   "source": [
    "response"
   ]
  },
  {
   "cell_type": "code",
   "execution_count": 51,
   "id": "89dbeea2",
   "metadata": {},
   "outputs": [],
   "source": [
    "\n",
    "response = TravelAgent.invoke({\"messages\":message})"
   ]
  },
  {
   "cell_type": "code",
   "execution_count": 72,
   "id": "c6093aaf",
   "metadata": {},
   "outputs": [
    {
     "ename": "TypeError",
     "evalue": "string indices must be integers, not 'str'",
     "output_type": "error",
     "traceback": [
      "\u001b[31m---------------------------------------------------------------------------\u001b[39m",
      "\u001b[31mTypeError\u001b[39m                                 Traceback (most recent call last)",
      "\u001b[36mCell\u001b[39m\u001b[36m \u001b[39m\u001b[32mIn[72]\u001b[39m\u001b[32m, line 1\u001b[39m\n\u001b[32m----> \u001b[39m\u001b[32m1\u001b[39m \u001b[38;5;28;01mfor\u001b[39;00m m \u001b[38;5;129;01min\u001b[39;00m \u001b[43mresponse\u001b[49m\u001b[43m[\u001b[49m\u001b[33;43m\"\u001b[39;49m\u001b[33;43mmessages\u001b[39;49m\u001b[33;43m\"\u001b[39;49m\u001b[43m]\u001b[49m:\n\u001b[32m      2\u001b[39m     m.pretty_print()\n",
      "\u001b[31mTypeError\u001b[39m: string indices must be integers, not 'str'"
     ]
    }
   ],
   "source": [
    "for m in response[\"messages\"]:\n",
    "    m.pretty_print()"
   ]
  }
 ],
 "metadata": {
  "kernelspec": {
   "display_name": "Python 3",
   "language": "python",
   "name": "python3"
  },
  "language_info": {
   "codemirror_mode": {
    "name": "ipython",
    "version": 3
   },
   "file_extension": ".py",
   "mimetype": "text/x-python",
   "name": "python",
   "nbconvert_exporter": "python",
   "pygments_lexer": "ipython3",
   "version": "3.13.0"
  }
 },
 "nbformat": 4,
 "nbformat_minor": 5
}
