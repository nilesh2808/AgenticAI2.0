{
 "cells": [
  {
   "cell_type": "code",
   "execution_count": 1,
   "id": "dac2561b",
   "metadata": {},
   "outputs": [],
   "source": [
    "from langchain_openai import ChatOpenAI\n",
    "from langchain_openai import OpenAIEmbeddings\n",
    "from langchain.document_loaders import TextLoader, DirectoryLoader\n",
    "from langchain.text_splitter import RecursiveCharacterTextSplitter\n",
    "from langchain_community.vectorstores import Chroma\n",
    "from langchain.prompts import PromptTemplate\n",
    "from langchain_core.output_parsers import StrOutputParser\n",
    "from langchain_core.runnables import RunnablePassthrough, RunnableLambda\n",
    "from langchain_core.messages import BaseMessage, HumanMessage\n",
    "from langgraph.graph import StateGraph, END\n",
    "from typing import TypedDict, Annotated, Sequence\n",
    "import operator\n",
    "from pydantic import BaseModel, Field\n",
    "from langchain.output_parsers import PydanticOutputParser\n",
    "from langchain_community.tools import TavilySearchResults\n",
    "from dotenv import load_dotenv\n",
    "import os\n",
    "import logging"
   ]
  },
  {
   "cell_type": "code",
   "execution_count": null,
   "id": "660eabb6",
   "metadata": {},
   "outputs": [],
   "source": [
    "# Set up logging\n",
    "logging.basicConfig(level=logging.ERROR)\n",
    "logger = logging.getLogger(__name__)\n",
    "\n",
    "# Load environment variables\n",
    "try:\n",
    "    load_dotenv()\n",
    "except Exception as e:\n",
    "    logger.error(f\"Failed to load environment variables: {str(e)}\")\n",
    "    raise EnvironmentError(\"Could not load environment variables. Ensure .env file is configured.\")\n",
    "\n",
    "# Initialize model, embeddings, and Tavily tool\n",
    "try:\n",
    "    model = ChatOpenAI(model='gpt-4o')\n",
    "except Exception as e:\n",
    "    logger.error(f\"Failed to initialize ChatOpenAI: {str(e)}\")\n",
    "    raise ValueError(\"Failed to initialize language model. Check API key and base URL.\")\n",
    "\n",
    "try:\n",
    "    #embeddings = OpenAIEmbeddings(model=\"models/text-embedding-004\") ##This is google embedding\n",
    "    embeddings = OpenAIEmbeddings(model=\"text-embedding-3-large\") #This is OpenAI embedding\n",
    "except Exception as e:\n",
    "    logger.error(f\"Failed to initialize embeddings: {str(e)}\")\n",
    "    raise ValueError(\"Failed to initialize embeddings. Check Google API configuration.\")\n",
    "\n",
    "try:\n",
    "    tool = TavilySearchResults(api_key=os.getenv('TAVILY_API_KEY'))\n",
    "except Exception as e:\n",
    "    logger.error(f\"Failed to initialize Tavily tool: {str(e)}\")\n",
    "    raise ValueError(\"Failed to initialize Tavily search tool. Check API key.\")\n"
   ]
  },
  {
   "cell_type": "markdown",
   "id": "316f3eea",
   "metadata": {},
   "source": [
    "### Document loading and vector store"
   ]
  },
  {
   "cell_type": "code",
   "execution_count": 3,
   "id": "b8b62fc2",
   "metadata": {},
   "outputs": [],
   "source": [
    "try:\n",
    "    loader=DirectoryLoader(\"../data2\",glob=\"./*.txt\",loader_cls=TextLoader)\n",
    "    docs = loader.load()\n",
    "    if not docs:\n",
    "        raise ValueError(\"No documents loaded from data2 directory.\")\n",
    "except Exception as e:\n",
    "    logger.error(f\"Failed to load documents: {str(e)}\")\n",
    "    raise FileNotFoundError(\"Could not load documents from data2 directory. Ensure it exists and contains .txt files.\")\n",
    "\n",
    "try:\n",
    "    text_splitter = RecursiveCharacterTextSplitter(\n",
    "        chunk_size=200,\n",
    "        chunk_overlap=50\n",
    "    )\n",
    "    new_docs = text_splitter.split_documents(documents=docs)\n",
    "    db = Chroma.from_documents(new_docs, embeddings)\n",
    "    retriever = db.as_retriever(search_kwargs={'k': 3})\n",
    "except Exception as e:\n",
    "    logger.error(f\"Failed to create vector store: {str(e)}\")\n",
    "    raise ValueError(\"Failed to create vector store. Check document splitting or embedding process.\")\n",
    "\n",
    "def format_docs(docs):\n",
    "    return \"\\n\\n\".join(doc.page_content for doc in docs)"
   ]
  },
  {
   "cell_type": "code",
   "execution_count": 4,
   "id": "d9988552",
   "metadata": {},
   "outputs": [
    {
     "data": {
      "text/plain": [
       "\"🇺🇸 Overview of the U.S. Economy\\nThe United States of America possesses the largest economy in the world in terms of nominal GDP, making it the most powerful economic force globally. It operates under a capitalist mixed economy, where the private sector dominates, but the government plays a significant regulatory and fiscal role. With a population of over 335 million people and a high level of technological advancement, the U.S. economy thrives on a foundation of consumer spending, innovation, global trade, and financial services. It has a highly diversified structure with strong sectors in technology, healthcare, finance, real estate, defense, and agriculture.\\n\\nU.S. GDP – Size, Composition, and Global Share\\nAs of 2024, the United States’ nominal GDP is estimated to be around $28 trillion USD, accounting for approximately 25% of the global economy. It ranks #1 in the world by nominal GDP, far ahead of China (which ranks 2nd). The U.S. GDP per capita is also among the highest, hovering around $83,000, which indicates a high standard of living and productivity. In terms of Purchasing Power Parity (PPP), the U.S. ranks second, but nominal GDP is considered more reflective of actual economic size and financial influence.\\n\\nThe GDP is predominantly driven by the services sector, which contributes more than 77% to the total GDP. This includes industries such as finance, insurance, real estate, healthcare, education, and information technology. The industrial sector (manufacturing, construction, mining) makes up around 19%, while agriculture, although technologically advanced and export-oriented, contributes only about 1%. Despite its small share in GDP, U.S. agriculture is globally significant in terms of productivity and exports.\\n\\nGDP Growth Trends and Dynamics\\nHistorically, the U.S. economy has enjoyed consistent long-term growth, averaging around 2-3% annually. Post-pandemic, the economy bounced back strongly, but 2022 and 2023 saw rising inflation due to supply chain issues and stimulus-driven demand. In 2024, the U.S. GDP grew at a modest pace of around 2.1%, as the Federal Reserve’s interest rate hikes aimed at controlling inflation also moderated economic expansion. Consumer spending, which makes up nearly 70% of GDP, remains a dominant force in economic stability.\\n\\nThe U.S. maintains its GDP growth through strong innovation, entrepreneurship, and investment in R&D. With companies like Apple, Google, Amazon, Microsoft, and Tesla leading global markets, the U.S. consistently produces high value across sectors, especially in technology and advanced services. Additionally, the economy benefits from intellectual property exports, financial services, and higher education, all of which contribute significantly to GDP through both domestic and international markets.\\n\\nRole in the Global Economy\\nThe U.S. Dollar (USD) is the global reserve currency, held by over 60% of the world’s central bank reserves. This gives the U.S. an enormous advantage in global trade and borrowing. The U.S. is a key member of international institutions like the World Bank, IMF, G7, G20, and WTO, and plays a central role in setting global economic policy.\\n\\nAs a global innovation hub, the U.S. attracts billions in foreign investment and hosts many of the world's largest and most valuable companies. Its exports include high-tech machinery, aircraft, pharmaceuticals, semiconductors, and financial services, while its imports cover consumer goods, electronics, automobiles, and industrial materials. The trade deficit remains large (around $900 billion in 2024), primarily because the U.S. consumes more than it exports, but its ability to finance this through capital inflows and reserve currency status sustains balance.\\n\\nKey Economic Strengths\\nThe core strength of the U.S. economy lies in its flexible labor market, deep capital markets, technological superiority, and legal system that encourages innovation and property rights. It has a large, highly educated workforce, a diverse immigration pipeline, and access to vast natural resources including oil, gas, coal, and farmland. The presence of top-tier universities and research institutions fuels the knowledge economy, with billions spent annually on R&D—over $700 billion USD, more than any other country.\\n\\nThe U.S. leads in many critical sectors, including software, biotechnology, aerospace, defense, financial services, and media. Its startup ecosystem, especially in Silicon Valley, produces unicorns and tech giants at a scale unmatched globally. Its financial markets—particularly Wall Street—are the most liquid and globally integrated in the world.\\n\\nChallenges and Structural Issues\\nDespite its strength, the U.S. economy faces several serious long-term issues. The national debt has surpassed $34 trillion USD, raising concerns about fiscal sustainability, especially as interest payments alone are growing rapidly. The income and wealth inequality gap has widened, with a small percentage of Americans owning a disproportionate share of wealth. Access to affordable healthcare, housing shortages, and a declining labor force participation in some sectors are additional structural issues.\\n\\nAnother growing concern is political polarization, which often stalls crucial economic reforms and budget agreements, as seen in recurrent debt ceiling crises. The U.S. also faces challenges from global competition, especially from China in areas like AI, semiconductors, and green technology. Moreover, climate change, cybersecurity threats, and geopolitical risks (like Ukraine and Taiwan conflicts) add layers of vulnerability to economic planning.\\n\\nFuture Outlook (2025–2030)\\nLooking forward, the U.S. economy is expected to grow at a moderate pace, powered by innovation in AI, green energy, robotics, biotech, and quantum computing. The Biden administration’s Inflation Reduction Act and CHIPS Act are pumping massive investments into semiconductors, clean energy, and infrastructure. There is a strong push for reshoring of manufacturing, especially in critical sectors like chips, pharmaceuticals, and batteries.\\n\\nHowever, economic leadership will depend on managing the national debt, reforming entitlement programs, upgrading infrastructure, and ensuring the next generation is equipped with digital-age skills. If the U.S. can handle these challenges, it is well-positioned to remain a global economic powerhouse through 2030 and beyond.\\n\\nFinal Summary\\nThe U.S. economy remains the engine of global growth, backed by unmatched innovation, financial dominance, and a strong institutional framework. Its $28 trillion GDP and influence over global finance, trade, and technology make it the centerpiece of the modern economic system. Yet, rising debt, inequality, political gridlock, and competition from emerging powers demand careful policy navigation. If successfully addressed, the U.S. will continue to dominate the global economy well into the future.\""
      ]
     },
     "execution_count": 4,
     "metadata": {},
     "output_type": "execute_result"
    }
   ],
   "source": [
    "format_docs(docs)"
   ]
  },
  {
   "cell_type": "markdown",
   "id": "6cdb18a7",
   "metadata": {},
   "source": [
    "### Pydantic parser and agent state"
   ]
  },
  {
   "cell_type": "code",
   "execution_count": 5,
   "id": "7a442a4c",
   "metadata": {},
   "outputs": [],
   "source": [
    "# Pydantic parser and agent state\n",
    "class TopicSelectionParser(BaseModel):\n",
    "    Topic: str = Field(description=\"selected topic\")\n",
    "    Reasoning: str = Field(description=\"Reasoning behind topic selection\")\n",
    "\n",
    "parser = PydanticOutputParser(pydantic_object=TopicSelectionParser)\n",
    "\n",
    "class AgentState(TypedDict):\n",
    "    messages: Annotated[Sequence[BaseMessage], operator.add]"
   ]
  },
  {
   "cell_type": "code",
   "execution_count": 36,
   "id": "c77a32f8",
   "metadata": {},
   "outputs": [],
   "source": [
    "## supervisor Function Mode"
   ]
  },
  {
   "cell_type": "code",
   "execution_count": 7,
   "id": "591da2a6",
   "metadata": {},
   "outputs": [],
   "source": [
    "# Supervisor node\n",
    "def function_1(state: AgentState):\n",
    "    try:\n",
    "        question = state[\"messages\"][-1]\n",
    "        print(\"Question:\", question)\n",
    "\n",
    "        template = \"\"\"\n",
    "        Your task is to classify the given user query into one of the following categories: [USA, Web, Not Related]. \n",
    "        - Choose 'USA' if the query is related to the United States (e.g., economy, GDP, industries).\n",
    "        - Choose 'Web' if the query requires real-time information from the internet (e.g., recent events, news).\n",
    "        - Choose 'Not Related' for all other queries.\n",
    "        Only respond with the category name and reasoning in the specified format.\n",
    "\n",
    "        User query: {question}\n",
    "        {format_instructions}\n",
    "        \"\"\"\n",
    "\n",
    "        prompt = PromptTemplate(\n",
    "            template=template,\n",
    "            input_variables=[\"question\"],\n",
    "            partial_variables={\"format_instructions\": parser.get_format_instructions()}\n",
    "        )\n",
    "\n",
    "        chain = prompt | model | parser\n",
    "        response = chain.invoke({\"question\": question})\n",
    "        print(\"Parsed response:\", response)\n",
    "        return {\"messages\": [response.Topic]}\n",
    "    except Exception as e:\n",
    "        logger.error(f\"Supervisor node failed: {str(e)}\")\n",
    "        return {\"messages\": [\"Error: Supervisor failed to classify query.\"]}"
   ]
  },
  {
   "cell_type": "code",
   "execution_count": 68,
   "id": "374afc0b",
   "metadata": {},
   "outputs": [
    {
     "name": "stdout",
     "output_type": "stream",
     "text": [
      "Question: what are current stock market prices\n",
      "Parsed response: Topic='Web' Reasoning=\"The query 'what are current stock market prices' requires real-time information from the internet as stock prices fluctuate constantly and need up-to-date data.\"\n"
     ]
    },
    {
     "data": {
      "text/plain": [
       "{'messages': ['Web']}"
      ]
     },
     "execution_count": 68,
     "metadata": {},
     "output_type": "execute_result"
    }
   ],
   "source": [
    "function_1({'messages':['what are current stock market prices']})"
   ]
  },
  {
   "cell_type": "markdown",
   "id": "3ea6de01",
   "metadata": {},
   "source": [
    "## Router Function"
   ]
  },
  {
   "cell_type": "code",
   "execution_count": 8,
   "id": "ef08916e",
   "metadata": {},
   "outputs": [],
   "source": [
    "# Router function\n",
    "def router(state: AgentState):\n",
    "    print(\"-->Router-->\")\n",
    "    try:\n",
    "        last_message = state[\"messages\"][-1]\n",
    "        print(\"last_message:\", last_message)\n",
    "        if \"usa\" in last_message.lower():\n",
    "            return \"RAG Call\"\n",
    "        elif \"web\" in last_message.lower():\n",
    "            return \"Web Call\"\n",
    "        else:\n",
    "            return \"LLM Call\"\n",
    "    except Exception as e:\n",
    "        logger.error(f\"Router failed: {str(e)}\")\n",
    "        raise RuntimeError(f\"Router failed to determine the next node: {str(e)}\")"
   ]
  },
  {
   "cell_type": "markdown",
   "id": "afca577e",
   "metadata": {},
   "source": [
    "### debugging router function"
   ]
  },
  {
   "cell_type": "code",
   "execution_count": 70,
   "id": "55f1f650",
   "metadata": {},
   "outputs": [
    {
     "name": "stdout",
     "output_type": "stream",
     "text": [
      "-->Router-->\n",
      "last_message: Web\n"
     ]
    },
    {
     "data": {
      "text/plain": [
       "'Web Call'"
      ]
     },
     "execution_count": 70,
     "metadata": {},
     "output_type": "execute_result"
    }
   ],
   "source": [
    "router({'messages':['Web']})"
   ]
  },
  {
   "cell_type": "markdown",
   "id": "6317308b",
   "metadata": {},
   "source": [
    "## RAG Node"
   ]
  },
  {
   "cell_type": "code",
   "execution_count": 9,
   "id": "fa739180",
   "metadata": {},
   "outputs": [],
   "source": [
    "def function_2(state: AgentState):\n",
    "    print(\"-> RAG Call ->\")\n",
    "    try:\n",
    "        question = state[\"messages\"][0]\n",
    "\n",
    "        prompt = PromptTemplate(\n",
    "            template=\"\"\"You are an assistant for question-answering tasks. Use the following pieces of retrieved context to answer the question. If you don't know the answer, just say that you don't know. Use three sentences maximum and keep the answer concise.\n",
    "            Question: {question}\n",
    "            Context: {context}\n",
    "            Answer:\"\"\",\n",
    "            input_variables=['context', 'question']\n",
    "        )\n",
    "\n",
    "        rag_chain = (\n",
    "            {\"context\": retriever | format_docs, \"question\": RunnablePassthrough()}\n",
    "            | prompt\n",
    "            | model\n",
    "            | StrOutputParser()\n",
    "        )\n",
    "        result = rag_chain.invoke(question)\n",
    "        return {\"messages\": [result]}\n",
    "    except Exception as e:\n",
    "        logger.error(f\"RAG node failed: {str(e)}\")\n",
    "        return {\"messages\": [\"Error: RAG node failed to generate answer.\"]}"
   ]
  },
  {
   "cell_type": "markdown",
   "id": "ab5fe6ff",
   "metadata": {},
   "source": [
    "## Debugging RAG Call"
   ]
  },
  {
   "cell_type": "code",
   "execution_count": 73,
   "id": "21b9ac97",
   "metadata": {},
   "outputs": [
    {
     "name": "stdout",
     "output_type": "stream",
     "text": [
      "-> RAG Call ->\n"
     ]
    },
    {
     "data": {
      "text/plain": [
       "{'messages': ['The U.S. GDP is the total market value of all goods and services produced in the United States and is one of the largest in the world. It is composed of various sectors including consumer spending, business investment, government spending, and net exports. The U.S. GDP plays a significant role in the global economy, influencing international markets and trade.']}"
      ]
     },
     "execution_count": 73,
     "metadata": {},
     "output_type": "execute_result"
    }
   ],
   "source": [
    "function_2({'messages':['tell me about usa gdp']})"
   ]
  },
  {
   "cell_type": "markdown",
   "id": "1510ebd6",
   "metadata": {},
   "source": [
    "### LLM node"
   ]
  },
  {
   "cell_type": "code",
   "execution_count": 74,
   "id": "617ccb43",
   "metadata": {},
   "outputs": [],
   "source": [
    "\n",
    "def function_3(state: AgentState):\n",
    "    print(\"-> LLM Call ->\")\n",
    "    try:\n",
    "        question = state[\"messages\"][0]\n",
    "        complete_query = \"Answer the following question with your knowledge of the real world. Following is the user question: \" + question\n",
    "        response = model.invoke(complete_query)\n",
    "        return {\"messages\": [response.content]}\n",
    "    \n",
    "    except Exception as e:\n",
    "        print(f\"Error in LLM call: {e}\")\n",
    "        return {\"messages\": [f\"Sorry, I encountered an error: {str(e)}\"]}"
   ]
  },
  {
   "cell_type": "markdown",
   "id": "45884af2",
   "metadata": {},
   "source": [
    "## Debugging LLM"
   ]
  },
  {
   "cell_type": "code",
   "execution_count": 76,
   "id": "bddd041c",
   "metadata": {},
   "outputs": [
    {
     "name": "stdout",
     "output_type": "stream",
     "text": [
      "-> LLM Call ->\n"
     ]
    },
    {
     "data": {
      "text/plain": [
       "{'messages': ['Neural networks are a set of algorithms modeled after the human brain, designed to recognize patterns and interpret data through a kind of machine perception, labeling, and classification. They form the foundation of deep learning algorithms. Neural networks consist of layers of interconnected nodes, or \"neurons,\" where each connection represents a weighted link that carries information. These weights are adjusted through training to minimize error and improve accuracy in outputs.\\n\\n1. **Structure**: A neural network typically includes an input layer, one or more hidden layers, and an output layer. Each neuron in a layer is connected to neurons in the subsequent layer.\\n\\n2. **Functioning**: Information is fed into the input layer, processed through one or more hidden layers using a system of weighted \"connections,\" and results are produced from the output layer. Neurons apply an activation function to these inputs to determine whether and to what extent information should be propagated forward.\\n\\n3. **Types**: \\n   - **Feedforward Neural Networks**: The simplest type, with connections moving in one direction only, from input to output.\\n   - **Convolutional Neural Networks (CNNs)**: Commonly used in image and video recognition, these networks employ convolutional layers to automatically detect different features.\\n   - **Recurrent Neural Networks (RNNs)**: These networks are used for sequential data like time series or natural language due to their ability to use internal memory to process input sequences.\\n\\n4. **Training**: Neural networks learn through a process called backpropagation, which involves adjusting the weights of connections based on the error in the output compared to the expected result. This iterative process improves the model\\'s performance.\\n\\nNeural networks are powerful tools in various applications, including image and speech recognition, natural language processing, game playing, and many more areas where pattern recognition is crucial.']}"
      ]
     },
     "execution_count": 76,
     "metadata": {},
     "output_type": "execute_result"
    }
   ],
   "source": [
    "function_3({'messages':['what are neural networks']})"
   ]
  },
  {
   "cell_type": "markdown",
   "id": "5707cdd3",
   "metadata": {},
   "source": [
    "### Web crawler node"
   ]
  },
  {
   "cell_type": "code",
   "execution_count": 78,
   "id": "5de238ee",
   "metadata": {},
   "outputs": [],
   "source": [
    "\n",
    "def function_4(state: AgentState):\n",
    "    print(\"-> Web Call ->\")\n",
    "    try:\n",
    "        question = state[\"messages\"][0]\n",
    "\n",
    "        prompt = PromptTemplate(\n",
    "            template=\"\"\"You are an assistant for question-answering tasks. Use the following pieces of retrieved context from a web search to answer the question. If you don't know the answer, just say that you don't know. Use three sentences maximum and keep the answer concise.\n",
    "            Question: {question}\n",
    "            Context: {context}\n",
    "            Answer:\"\"\",\n",
    "            input_variables=['context', 'question']\n",
    "        )\n",
    "\n",
    "        web_results = tool.run(question)\n",
    "        context = \"\\n\".join([result.get('content', '') for result in web_results[:3]])\n",
    "\n",
    "        web_chain = (\n",
    "            {\"context\": RunnableLambda(lambda x: context), \"question\": RunnablePassthrough()}\n",
    "            | prompt\n",
    "            | model\n",
    "            | StrOutputParser()\n",
    "        )\n",
    "        result = web_chain.invoke(question)\n",
    "        return {\"messages\": [result]}\n",
    "    except Exception as e:\n",
    "        logger.error(f\"Web node failed: {str(e)}\")\n",
    "        return {\"messages\": [\"Error: Web search failed to generate answer.\"]}"
   ]
  },
  {
   "cell_type": "markdown",
   "id": "02ea03da",
   "metadata": {},
   "source": [
    " ### debugging webcrawler"
   ]
  },
  {
   "cell_type": "code",
   "execution_count": 79,
   "id": "5e53ebc8",
   "metadata": {},
   "outputs": [
    {
     "name": "stdout",
     "output_type": "stream",
     "text": [
      "-> Web Call ->\n"
     ]
    },
    {
     "data": {
      "text/plain": [
       "{'messages': [\"During the RCB victory celebration, a stampede occurred outside the M Chinnaswamy Stadium in Bengaluru, resulting in the tragic death of at least 11 people and injuring over 30. The incident happened as the crowd control measures failed to manage the huge number of fans gathered to celebrate RCB's first IPL triumph. Consequently, the event was cut short, including the cancellation of a planned bus parade.\"]}"
      ]
     },
     "execution_count": 79,
     "metadata": {},
     "output_type": "execute_result"
    }
   ],
   "source": [
    "function_4({'messages':['what happened in rcb winning ceremony']})"
   ]
  },
  {
   "cell_type": "markdown",
   "id": "a0e35a35",
   "metadata": {},
   "source": [
    "### Validation node"
   ]
  },
  {
   "cell_type": "code",
   "execution_count": 80,
   "id": "8e40753e",
   "metadata": {},
   "outputs": [],
   "source": [
    "class ValidationParser(BaseModel):\n",
    "    is_valid: bool = Field(description=\"Whether the answer is valid\")\n",
    "    reason: str = Field(description=\"Reason for validation result\")\n",
    "\n",
    "validation_parser = PydanticOutputParser(pydantic_object=ValidationParser)"
   ]
  },
  {
   "cell_type": "markdown",
   "id": "0ee8b378",
   "metadata": {},
   "source": [
    "### Validation Node"
   ]
  },
  {
   "cell_type": "code",
   "execution_count": 129,
   "id": "9feb590a",
   "metadata": {},
   "outputs": [],
   "source": [
    "def function_5(state: AgentState):\n",
    "    print(\"-> Validation Call ->\")\n",
    "    try:\n",
    "        answer = state[\"messages\"][-1]\n",
    "        question = state[\"messages\"][0]\n",
    "\n",
    "        print(\"Question\",question)\n",
    "        print(\"Answer\",answer)\n",
    "        \n",
    "        validation_prompt = PromptTemplate(\n",
    "            template=\"\"\"Validate the following answer for the given question. An answer is valid if it directly addresses the question, and is at least one sentence long. Return the result in the specified format.\n",
    "            Question: {question}\n",
    "            Answer: {answer}\n",
    "            {format_instructions}\n",
    "            \"\"\",\n",
    "            input_variables=[\"question\", \"answer\"],\n",
    "            partial_variables={\"format_instructions\": validation_parser.get_format_instructions()}\n",
    "        )\n",
    "\n",
    "        validation_chain = validation_prompt | model | validation_parser\n",
    "        validation_result = validation_chain.invoke({\"question\": question, \"answer\": answer})\n",
    "        print(\"Validation result:\", validation_result)\n",
    "        return {\"messages\": [str(validation_result.is_valid)]}\n",
    "    except Exception as e:\n",
    "        logger.error(f\"Validation node failed: {str(e)}\")\n",
    "        return {\"messages\": [\"False\", f\"Validation failed due to error: {str(e)}\"]}"
   ]
  },
  {
   "cell_type": "markdown",
   "id": "a29fc01b",
   "metadata": {},
   "source": [
    "### debugging validator "
   ]
  },
  {
   "cell_type": "code",
   "execution_count": 130,
   "id": "f33b7310",
   "metadata": {},
   "outputs": [
    {
     "name": "stdout",
     "output_type": "stream",
     "text": [
      "-> Validation Call ->\n",
      "Question what happend in rcb winning ceremony\n",
      "Answer During the Royal Challengers Bengalurus (RCB) victory ceremony after their IPL triumph, a stampede occurred outside the M Chinnaswamy Stadium due to the large crowd. Tragically, at least 11 people died and over 30 were injured. The event inside the stadium was cut short, and a planned bus parade was canceled.\n",
      "\n",
      "Validation result: is_valid=True reason='The answer directly addresses the question about the events that happened during the RCB winning ceremony and provides a detailed description of the incident involving a stampede and its consequences.'\n"
     ]
    },
    {
     "data": {
      "text/plain": [
       "{'messages': ['True']}"
      ]
     },
     "execution_count": 130,
     "metadata": {},
     "output_type": "execute_result"
    }
   ],
   "source": [
    "\n",
    "function_5({'messages':['what happend in rcb winning ceremony','During the Royal Challengers Bengalurus (RCB) victory ceremony after their IPL triumph, a stampede occurred outside the M Chinnaswamy Stadium due to the large crowd. Tragically, at least 11 people died and over 30 were injured. The event inside the stadium was cut short, and a planned bus parade was canceled.\\n']})"
   ]
  },
  {
   "cell_type": "markdown",
   "id": "80d2ed15",
   "metadata": {},
   "source": [
    "## Validation Router"
   ]
  },
  {
   "cell_type": "code",
   "execution_count": 109,
   "id": "b5d6025a",
   "metadata": {},
   "outputs": [],
   "source": [
    "\n",
    "def validation_router(state: AgentState):\n",
    "    print(\"-->Validation Router-->\")\n",
    "    try:\n",
    "        is_valid = state[\"messages\"][-1]  # Corrected index to access is_valid\n",
    "        print(\"is_valid:\", is_valid)\n",
    "        if is_valid.lower() == \"true\":\n",
    "            return \"Accepted\"\n",
    "        else:\n",
    "            return \"Revoked\"\n",
    "    except Exception as e:\n",
    "        logger.error(f\"Validation router failed: {str(e)}\")\n",
    "        raise RuntimeError(f\"Validation router failed to determine the next node: {str(e)}\")"
   ]
  },
  {
   "cell_type": "markdown",
   "id": "903f4d7a",
   "metadata": {},
   "source": [
    "End State"
   ]
  },
  {
   "cell_type": "code",
   "execution_count": 142,
   "id": "a8c725a8",
   "metadata": {},
   "outputs": [],
   "source": [
    "def function_6(state: AgentState):\n",
    "    final_answer = state['messages'][2]\n",
    "    print(\"final_result: \",final_answer)\n",
    "    print(\"State Messages:\", state)"
   ]
  },
  {
   "cell_type": "markdown",
   "id": "5568fb8e",
   "metadata": {},
   "source": [
    "## Initialize Graph"
   ]
  },
  {
   "cell_type": "code",
   "execution_count": 143,
   "id": "23892f58",
   "metadata": {},
   "outputs": [],
   "source": [
    "workflow = StateGraph(AgentState)"
   ]
  },
  {
   "cell_type": "markdown",
   "id": "3019b572",
   "metadata": {},
   "source": [
    "## Add Nodes"
   ]
  },
  {
   "cell_type": "code",
   "execution_count": 144,
   "id": "f69e7b16",
   "metadata": {},
   "outputs": [
    {
     "data": {
      "text/plain": [
       "<langgraph.graph.state.StateGraph at 0x1e7c5607d50>"
      ]
     },
     "execution_count": 144,
     "metadata": {},
     "output_type": "execute_result"
    }
   ],
   "source": [
    "workflow.add_node(\"Supervisor\",function_1)\n",
    "workflow.add_node(\"RAG\",function_2)\n",
    "workflow.add_node(\"LLM\",function_3)\n",
    "workflow.add_node(\"Web\",function_4)\n",
    "workflow.add_node(\"Validation\",function_5)\n",
    "workflow.add_node(\"End\",function_6)"
   ]
  },
  {
   "cell_type": "markdown",
   "id": "5c43a54d",
   "metadata": {},
   "source": [
    "### Check Nodes"
   ]
  },
  {
   "cell_type": "code",
   "execution_count": 145,
   "id": "58525428",
   "metadata": {},
   "outputs": [
    {
     "data": {
      "text/plain": [
       "{'Supervisor': StateNodeSpec(runnable=Supervisor(tags=None, recurse=True, explode_args=False, func_accepts_config=False, func_accepts={}), metadata=None, input=<class '__main__.AgentState'>, retry_policy=None, cache_policy=None, ends=(), defer=False),\n",
       " 'RAG': StateNodeSpec(runnable=RAG(tags=None, recurse=True, explode_args=False, func_accepts_config=False, func_accepts={}), metadata=None, input=<class '__main__.AgentState'>, retry_policy=None, cache_policy=None, ends=(), defer=False),\n",
       " 'LLM': StateNodeSpec(runnable=LLM(tags=None, recurse=True, explode_args=False, func_accepts_config=False, func_accepts={}), metadata=None, input=<class '__main__.AgentState'>, retry_policy=None, cache_policy=None, ends=(), defer=False),\n",
       " 'Web': StateNodeSpec(runnable=Web(tags=None, recurse=True, explode_args=False, func_accepts_config=False, func_accepts={}), metadata=None, input=<class '__main__.AgentState'>, retry_policy=None, cache_policy=None, ends=(), defer=False),\n",
       " 'Validation': StateNodeSpec(runnable=Validation(tags=None, recurse=True, explode_args=False, func_accepts_config=False, func_accepts={}), metadata=None, input=<class '__main__.AgentState'>, retry_policy=None, cache_policy=None, ends=(), defer=False),\n",
       " 'End': StateNodeSpec(runnable=End(tags=None, recurse=True, explode_args=False, func_accepts_config=False, func_accepts={}), metadata=None, input=<class '__main__.AgentState'>, retry_policy=None, cache_policy=None, ends=(), defer=False)}"
      ]
     },
     "execution_count": 145,
     "metadata": {},
     "output_type": "execute_result"
    }
   ],
   "source": [
    "workflow.nodes"
   ]
  },
  {
   "cell_type": "markdown",
   "id": "4decac0e",
   "metadata": {},
   "source": [
    "# Add Entry Point"
   ]
  },
  {
   "cell_type": "code",
   "execution_count": 146,
   "id": "cf094738",
   "metadata": {},
   "outputs": [
    {
     "data": {
      "text/plain": [
       "<langgraph.graph.state.StateGraph at 0x1e7c5607d50>"
      ]
     },
     "execution_count": 146,
     "metadata": {},
     "output_type": "execute_result"
    }
   ],
   "source": [
    "workflow.set_entry_point(\"Supervisor\")"
   ]
  },
  {
   "cell_type": "markdown",
   "id": "8c96b74f",
   "metadata": {},
   "source": [
    "## Add Conditional Edge"
   ]
  },
  {
   "cell_type": "code",
   "execution_count": 147,
   "id": "72c36d6c",
   "metadata": {},
   "outputs": [
    {
     "data": {
      "text/plain": [
       "<langgraph.graph.state.StateGraph at 0x1e7c5607d50>"
      ]
     },
     "execution_count": 147,
     "metadata": {},
     "output_type": "execute_result"
    }
   ],
   "source": [
    "workflow.add_conditional_edges(\n",
    "    \"Supervisor\",\n",
    "    router,\n",
    "    {\n",
    "        \"RAG Call\": \"RAG\",\n",
    "        \"LLM Call\": \"LLM\",\n",
    "        \"Web Call\": \"Web\"\n",
    "    }\n",
    ")\n",
    "  "
   ]
  },
  {
   "cell_type": "markdown",
   "id": "32267755",
   "metadata": {},
   "source": [
    "## Add Normal Edges"
   ]
  },
  {
   "cell_type": "code",
   "execution_count": 148,
   "id": "d029e53b",
   "metadata": {},
   "outputs": [
    {
     "data": {
      "text/plain": [
       "<langgraph.graph.state.StateGraph at 0x1e7c5607d50>"
      ]
     },
     "execution_count": 148,
     "metadata": {},
     "output_type": "execute_result"
    }
   ],
   "source": [
    "workflow.add_edge(\"RAG\",\"Validation\")\n",
    "workflow.add_edge(\"LLM\",\"Validation\")\n",
    "workflow.add_edge(\"Web\",\"Validation\")"
   ]
  },
  {
   "cell_type": "markdown",
   "id": "800cc691",
   "metadata": {},
   "source": [
    "Add Conditional Edge"
   ]
  },
  {
   "cell_type": "code",
   "execution_count": 149,
   "id": "70397ac2",
   "metadata": {},
   "outputs": [
    {
     "data": {
      "text/plain": [
       "<langgraph.graph.state.StateGraph at 0x1e7c5607d50>"
      ]
     },
     "execution_count": 149,
     "metadata": {},
     "output_type": "execute_result"
    }
   ],
   "source": [
    "workflow.add_conditional_edges(\n",
    "    \"Validation\",\n",
    "    validation_router,\n",
    "    {\n",
    "        \"Accepted\": \"End\",\n",
    "        \"Revoked\": \"Supervisor\"\n",
    "    }\n",
    ")"
   ]
  },
  {
   "cell_type": "markdown",
   "id": "95922b25",
   "metadata": {},
   "source": [
    "## Add End Point"
   ]
  },
  {
   "cell_type": "code",
   "execution_count": 59,
   "id": "463f3997",
   "metadata": {},
   "outputs": [],
   "source": [
    "#workflow.set_finish_point(\"End\")"
   ]
  },
  {
   "cell_type": "markdown",
   "id": "934b8d1c",
   "metadata": {},
   "source": [
    "## Compile Graph"
   ]
  },
  {
   "cell_type": "code",
   "execution_count": 150,
   "id": "3538c300",
   "metadata": {},
   "outputs": [
    {
     "data": {
      "image/png": "[encoded data removed]",
      "text/plain": [
       "<langgraph.graph.state.CompiledStateGraph object at 0x000001E7C582C9E0>"
      ]
     },
     "execution_count": 150,
     "metadata": {},
     "output_type": "execute_result"
    }
   ],
   "source": [
    "workflow.compile()"
   ]
  },
  {
   "cell_type": "code",
   "execution_count": 151,
   "id": "7b516ea0",
   "metadata": {},
   "outputs": [],
   "source": [
    "app = workflow.compile()"
   ]
  },
  {
   "cell_type": "markdown",
   "id": "2334eb96",
   "metadata": {},
   "source": [
    "## Test Case 1"
   ]
  },
  {
   "cell_type": "code",
   "execution_count": 154,
   "id": "8d2841bc",
   "metadata": {},
   "outputs": [
    {
     "name": "stdout",
     "output_type": "stream",
     "text": [
      "Question: can you tell me the industrial growth of usa?\n"
     ]
    },
    {
     "name": "stderr",
     "output_type": "stream",
     "text": [
      "ERROR:__main__:Supervisor node failed: Error code: 401 - {'error': {'message': 'Incorrect API key provided: sk-proj-********************************************************************************************************************************************************mWYA. You can find your API key at https://platform.openai.com/account/api-keys.', 'type': 'invalid_request_error', 'param': None, 'code': 'invalid_api_key'}}\n"
     ]
    },
    {
     "name": "stdout",
     "output_type": "stream",
     "text": [
      "-->Router-->\n",
      "last_message: Error: Supervisor failed to classify query.\n",
      "-> LLM Call ->\n",
      "Error in LLM call: Error code: 401 - {'error': {'message': 'Incorrect API key provided: sk-proj-********************************************************************************************************************************************************mWYA. You can find your API key at https://platform.openai.com/account/api-keys.', 'type': 'invalid_request_error', 'param': None, 'code': 'invalid_api_key'}}\n",
      "-> Validation Call ->\n",
      "Question can you tell me the industrial growth of usa?\n",
      "Answer Sorry, I encountered an error: Error code: 401 - {'error': {'message': 'Incorrect API key provided: sk-proj-********************************************************************************************************************************************************mWYA. You can find your API key at https://platform.openai.com/account/api-keys.', 'type': 'invalid_request_error', 'param': None, 'code': 'invalid_api_key'}}\n"
     ]
    },
    {
     "name": "stderr",
     "output_type": "stream",
     "text": [
      "ERROR:__main__:Validation node failed: Error code: 401 - {'error': {'message': 'Incorrect API key provided: sk-proj-********************************************************************************************************************************************************mWYA. You can find your API key at https://platform.openai.com/account/api-keys.', 'type': 'invalid_request_error', 'param': None, 'code': 'invalid_api_key'}}\n"
     ]
    },
    {
     "name": "stdout",
     "output_type": "stream",
     "text": [
      "-->Validation Router-->\n",
      "is_valid: Validation failed due to error: Error code: 401 - {'error': {'message': 'Incorrect API key provided: sk-proj-********************************************************************************************************************************************************mWYA. You can find your API key at https://platform.openai.com/account/api-keys.', 'type': 'invalid_request_error', 'param': None, 'code': 'invalid_api_key'}}\n",
      "Question: Validation failed due to error: Error code: 401 - {'error': {'message': 'Incorrect API key provided: sk-proj-********************************************************************************************************************************************************mWYA. You can find your API key at https://platform.openai.com/account/api-keys.', 'type': 'invalid_request_error', 'param': None, 'code': 'invalid_api_key'}}\n"
     ]
    },
    {
     "name": "stderr",
     "output_type": "stream",
     "text": [
      "ERROR:__main__:Supervisor node failed: Error code: 401 - {'error': {'message': 'Incorrect API key provided: sk-proj-********************************************************************************************************************************************************mWYA. You can find your API key at https://platform.openai.com/account/api-keys.', 'type': 'invalid_request_error', 'param': None, 'code': 'invalid_api_key'}}\n"
     ]
    },
    {
     "name": "stdout",
     "output_type": "stream",
     "text": [
      "-->Router-->\n",
      "last_message: Error: Supervisor failed to classify query.\n",
      "-> LLM Call ->\n",
      "Error in LLM call: Error code: 401 - {'error': {'message': 'Incorrect API key provided: sk-proj-********************************************************************************************************************************************************mWYA. You can find your API key at https://platform.openai.com/account/api-keys.', 'type': 'invalid_request_error', 'param': None, 'code': 'invalid_api_key'}}\n",
      "-> Validation Call ->\n",
      "Question can you tell me the industrial growth of usa?\n",
      "Answer Sorry, I encountered an error: Error code: 401 - {'error': {'message': 'Incorrect API key provided: sk-proj-********************************************************************************************************************************************************mWYA. You can find your API key at https://platform.openai.com/account/api-keys.', 'type': 'invalid_request_error', 'param': None, 'code': 'invalid_api_key'}}\n"
     ]
    },
    {
     "name": "stderr",
     "output_type": "stream",
     "text": [
      "ERROR:__main__:Validation node failed: Error code: 401 - {'error': {'message': 'Incorrect API key provided: sk-proj-********************************************************************************************************************************************************mWYA. You can find your API key at https://platform.openai.com/account/api-keys.', 'type': 'invalid_request_error', 'param': None, 'code': 'invalid_api_key'}}\n"
     ]
    },
    {
     "name": "stdout",
     "output_type": "stream",
     "text": [
      "-->Validation Router-->\n",
      "is_valid: Validation failed due to error: Error code: 401 - {'error': {'message': 'Incorrect API key provided: sk-proj-********************************************************************************************************************************************************mWYA. You can find your API key at https://platform.openai.com/account/api-keys.', 'type': 'invalid_request_error', 'param': None, 'code': 'invalid_api_key'}}\n",
      "Question: Validation failed due to error: Error code: 401 - {'error': {'message': 'Incorrect API key provided: sk-proj-********************************************************************************************************************************************************mWYA. You can find your API key at https://platform.openai.com/account/api-keys.', 'type': 'invalid_request_error', 'param': None, 'code': 'invalid_api_key'}}\n"
     ]
    },
    {
     "name": "stderr",
     "output_type": "stream",
     "text": [
      "ERROR:__main__:Supervisor node failed: Error code: 401 - {'error': {'message': 'Incorrect API key provided: sk-proj-********************************************************************************************************************************************************mWYA. You can find your API key at https://platform.openai.com/account/api-keys.', 'type': 'invalid_request_error', 'param': None, 'code': 'invalid_api_key'}}\n"
     ]
    },
    {
     "name": "stdout",
     "output_type": "stream",
     "text": [
      "-->Router-->\n",
      "last_message: Error: Supervisor failed to classify query.\n",
      "-> LLM Call ->\n",
      "Error in LLM call: Error code: 401 - {'error': {'message': 'Incorrect API key provided: sk-proj-********************************************************************************************************************************************************mWYA. You can find your API key at https://platform.openai.com/account/api-keys.', 'type': 'invalid_request_error', 'param': None, 'code': 'invalid_api_key'}}\n",
      "-> Validation Call ->\n",
      "Question can you tell me the industrial growth of usa?\n",
      "Answer Sorry, I encountered an error: Error code: 401 - {'error': {'message': 'Incorrect API key provided: sk-proj-********************************************************************************************************************************************************mWYA. You can find your API key at https://platform.openai.com/account/api-keys.', 'type': 'invalid_request_error', 'param': None, 'code': 'invalid_api_key'}}\n"
     ]
    },
    {
     "name": "stderr",
     "output_type": "stream",
     "text": [
      "ERROR:__main__:Validation node failed: Error code: 401 - {'error': {'message': 'Incorrect API key provided: sk-proj-********************************************************************************************************************************************************mWYA. You can find your API key at https://platform.openai.com/account/api-keys.', 'type': 'invalid_request_error', 'param': None, 'code': 'invalid_api_key'}}\n"
     ]
    },
    {
     "name": "stdout",
     "output_type": "stream",
     "text": [
      "-->Validation Router-->\n",
      "is_valid: Validation failed due to error: Error code: 401 - {'error': {'message': 'Incorrect API key provided: sk-proj-********************************************************************************************************************************************************mWYA. You can find your API key at https://platform.openai.com/account/api-keys.', 'type': 'invalid_request_error', 'param': None, 'code': 'invalid_api_key'}}\n",
      "Question: Validation failed due to error: Error code: 401 - {'error': {'message': 'Incorrect API key provided: sk-proj-********************************************************************************************************************************************************mWYA. You can find your API key at https://platform.openai.com/account/api-keys.', 'type': 'invalid_request_error', 'param': None, 'code': 'invalid_api_key'}}\n"
     ]
    },
    {
     "name": "stderr",
     "output_type": "stream",
     "text": [
      "ERROR:__main__:Supervisor node failed: Error code: 401 - {'error': {'message': 'Incorrect API key provided: sk-proj-********************************************************************************************************************************************************mWYA. You can find your API key at https://platform.openai.com/account/api-keys.', 'type': 'invalid_request_error', 'param': None, 'code': 'invalid_api_key'}}\n"
     ]
    },
    {
     "name": "stdout",
     "output_type": "stream",
     "text": [
      "-->Router-->\n",
      "last_message: Error: Supervisor failed to classify query.\n",
      "-> LLM Call ->\n",
      "Error in LLM call: Error code: 401 - {'error': {'message': 'Incorrect API key provided: sk-proj-********************************************************************************************************************************************************mWYA. You can find your API key at https://platform.openai.com/account/api-keys.', 'type': 'invalid_request_error', 'param': None, 'code': 'invalid_api_key'}}\n",
      "-> Validation Call ->\n",
      "Question can you tell me the industrial growth of usa?\n",
      "Answer Sorry, I encountered an error: Error code: 401 - {'error': {'message': 'Incorrect API key provided: sk-proj-********************************************************************************************************************************************************mWYA. You can find your API key at https://platform.openai.com/account/api-keys.', 'type': 'invalid_request_error', 'param': None, 'code': 'invalid_api_key'}}\n"
     ]
    },
    {
     "name": "stderr",
     "output_type": "stream",
     "text": [
      "ERROR:__main__:Validation node failed: Error code: 401 - {'error': {'message': 'Incorrect API key provided: sk-proj-********************************************************************************************************************************************************mWYA. You can find your API key at https://platform.openai.com/account/api-keys.', 'type': 'invalid_request_error', 'param': None, 'code': 'invalid_api_key'}}\n"
     ]
    },
    {
     "name": "stdout",
     "output_type": "stream",
     "text": [
      "-->Validation Router-->\n",
      "is_valid: Validation failed due to error: Error code: 401 - {'error': {'message': 'Incorrect API key provided: sk-proj-********************************************************************************************************************************************************mWYA. You can find your API key at https://platform.openai.com/account/api-keys.', 'type': 'invalid_request_error', 'param': None, 'code': 'invalid_api_key'}}\n",
      "Question: Validation failed due to error: Error code: 401 - {'error': {'message': 'Incorrect API key provided: sk-proj-********************************************************************************************************************************************************mWYA. You can find your API key at https://platform.openai.com/account/api-keys.', 'type': 'invalid_request_error', 'param': None, 'code': 'invalid_api_key'}}\n"
     ]
    },
    {
     "name": "stderr",
     "output_type": "stream",
     "text": [
      "ERROR:__main__:Supervisor node failed: Error code: 401 - {'error': {'message': 'Incorrect API key provided: sk-proj-********************************************************************************************************************************************************mWYA. You can find your API key at https://platform.openai.com/account/api-keys.', 'type': 'invalid_request_error', 'param': None, 'code': 'invalid_api_key'}}\n"
     ]
    },
    {
     "name": "stdout",
     "output_type": "stream",
     "text": [
      "-->Router-->\n",
      "last_message: Error: Supervisor failed to classify query.\n",
      "-> LLM Call ->\n",
      "Error in LLM call: Error code: 401 - {'error': {'message': 'Incorrect API key provided: sk-proj-********************************************************************************************************************************************************mWYA. You can find your API key at https://platform.openai.com/account/api-keys.', 'type': 'invalid_request_error', 'param': None, 'code': 'invalid_api_key'}}\n",
      "-> Validation Call ->\n",
      "Question can you tell me the industrial growth of usa?\n",
      "Answer Sorry, I encountered an error: Error code: 401 - {'error': {'message': 'Incorrect API key provided: sk-proj-********************************************************************************************************************************************************mWYA. You can find your API key at https://platform.openai.com/account/api-keys.', 'type': 'invalid_request_error', 'param': None, 'code': 'invalid_api_key'}}\n"
     ]
    },
    {
     "name": "stderr",
     "output_type": "stream",
     "text": [
      "ERROR:__main__:Validation node failed: Error code: 401 - {'error': {'message': 'Incorrect API key provided: sk-proj-********************************************************************************************************************************************************mWYA. You can find your API key at https://platform.openai.com/account/api-keys.', 'type': 'invalid_request_error', 'param': None, 'code': 'invalid_api_key'}}\n"
     ]
    },
    {
     "name": "stdout",
     "output_type": "stream",
     "text": [
      "-->Validation Router-->\n",
      "is_valid: Validation failed due to error: Error code: 401 - {'error': {'message': 'Incorrect API key provided: sk-proj-********************************************************************************************************************************************************mWYA. You can find your API key at https://platform.openai.com/account/api-keys.', 'type': 'invalid_request_error', 'param': None, 'code': 'invalid_api_key'}}\n",
      "Question: Validation failed due to error: Error code: 401 - {'error': {'message': 'Incorrect API key provided: sk-proj-********************************************************************************************************************************************************mWYA. You can find your API key at https://platform.openai.com/account/api-keys.', 'type': 'invalid_request_error', 'param': None, 'code': 'invalid_api_key'}}\n"
     ]
    },
    {
     "name": "stderr",
     "output_type": "stream",
     "text": [
      "ERROR:__main__:Supervisor node failed: Error code: 401 - {'error': {'message': 'Incorrect API key provided: sk-proj-********************************************************************************************************************************************************mWYA. You can find your API key at https://platform.openai.com/account/api-keys.', 'type': 'invalid_request_error', 'param': None, 'code': 'invalid_api_key'}}\n"
     ]
    },
    {
     "name": "stdout",
     "output_type": "stream",
     "text": [
      "-->Router-->\n",
      "last_message: Error: Supervisor failed to classify query.\n",
      "-> LLM Call ->\n",
      "Error in LLM call: Error code: 401 - {'error': {'message': 'Incorrect API key provided: sk-proj-********************************************************************************************************************************************************mWYA. You can find your API key at https://platform.openai.com/account/api-keys.', 'type': 'invalid_request_error', 'param': None, 'code': 'invalid_api_key'}}\n",
      "-> Validation Call ->\n",
      "Question can you tell me the industrial growth of usa?\n",
      "Answer Sorry, I encountered an error: Error code: 401 - {'error': {'message': 'Incorrect API key provided: sk-proj-********************************************************************************************************************************************************mWYA. You can find your API key at https://platform.openai.com/account/api-keys.', 'type': 'invalid_request_error', 'param': None, 'code': 'invalid_api_key'}}\n"
     ]
    },
    {
     "name": "stderr",
     "output_type": "stream",
     "text": [
      "ERROR:__main__:Validation node failed: Error code: 401 - {'error': {'message': 'Incorrect API key provided: sk-proj-********************************************************************************************************************************************************mWYA. You can find your API key at https://platform.openai.com/account/api-keys.', 'type': 'invalid_request_error', 'param': None, 'code': 'invalid_api_key'}}\n"
     ]
    },
    {
     "name": "stdout",
     "output_type": "stream",
     "text": [
      "-->Validation Router-->\n",
      "is_valid: Validation failed due to error: Error code: 401 - {'error': {'message': 'Incorrect API key provided: sk-proj-********************************************************************************************************************************************************mWYA. You can find your API key at https://platform.openai.com/account/api-keys.', 'type': 'invalid_request_error', 'param': None, 'code': 'invalid_api_key'}}\n",
      "Question: Validation failed due to error: Error code: 401 - {'error': {'message': 'Incorrect API key provided: sk-proj-********************************************************************************************************************************************************mWYA. You can find your API key at https://platform.openai.com/account/api-keys.', 'type': 'invalid_request_error', 'param': None, 'code': 'invalid_api_key'}}\n"
     ]
    },
    {
     "name": "stderr",
     "output_type": "stream",
     "text": [
      "ERROR:__main__:Supervisor node failed: Error code: 401 - {'error': {'message': 'Incorrect API key provided: sk-proj-********************************************************************************************************************************************************mWYA. You can find your API key at https://platform.openai.com/account/api-keys.', 'type': 'invalid_request_error', 'param': None, 'code': 'invalid_api_key'}}\n"
     ]
    },
    {
     "name": "stdout",
     "output_type": "stream",
     "text": [
      "-->Router-->\n",
      "last_message: Error: Supervisor failed to classify query.\n",
      "-> LLM Call ->\n",
      "Error in LLM call: Error code: 401 - {'error': {'message': 'Incorrect API key provided: sk-proj-********************************************************************************************************************************************************mWYA. You can find your API key at https://platform.openai.com/account/api-keys.', 'type': 'invalid_request_error', 'param': None, 'code': 'invalid_api_key'}}\n",
      "-> Validation Call ->\n",
      "Question can you tell me the industrial growth of usa?\n",
      "Answer Sorry, I encountered an error: Error code: 401 - {'error': {'message': 'Incorrect API key provided: sk-proj-********************************************************************************************************************************************************mWYA. You can find your API key at https://platform.openai.com/account/api-keys.', 'type': 'invalid_request_error', 'param': None, 'code': 'invalid_api_key'}}\n"
     ]
    },
    {
     "name": "stderr",
     "output_type": "stream",
     "text": [
      "ERROR:__main__:Validation node failed: Error code: 401 - {'error': {'message': 'Incorrect API key provided: sk-proj-********************************************************************************************************************************************************mWYA. You can find your API key at https://platform.openai.com/account/api-keys.', 'type': 'invalid_request_error', 'param': None, 'code': 'invalid_api_key'}}\n"
     ]
    },
    {
     "name": "stdout",
     "output_type": "stream",
     "text": [
      "-->Validation Router-->\n",
      "is_valid: Validation failed due to error: Error code: 401 - {'error': {'message': 'Incorrect API key provided: sk-proj-********************************************************************************************************************************************************mWYA. You can find your API key at https://platform.openai.com/account/api-keys.', 'type': 'invalid_request_error', 'param': None, 'code': 'invalid_api_key'}}\n",
      "Question: Validation failed due to error: Error code: 401 - {'error': {'message': 'Incorrect API key provided: sk-proj-********************************************************************************************************************************************************mWYA. You can find your API key at https://platform.openai.com/account/api-keys.', 'type': 'invalid_request_error', 'param': None, 'code': 'invalid_api_key'}}\n"
     ]
    },
    {
     "name": "stderr",
     "output_type": "stream",
     "text": [
      "ERROR:__main__:Supervisor node failed: Error code: 401 - {'error': {'message': 'Incorrect API key provided: sk-proj-********************************************************************************************************************************************************mWYA. You can find your API key at https://platform.openai.com/account/api-keys.', 'type': 'invalid_request_error', 'param': None, 'code': 'invalid_api_key'}}\n"
     ]
    },
    {
     "name": "stdout",
     "output_type": "stream",
     "text": [
      "-->Router-->\n",
      "last_message: Error: Supervisor failed to classify query.\n",
      "-> LLM Call ->\n",
      "Error in LLM call: Error code: 401 - {'error': {'message': 'Incorrect API key provided: sk-proj-********************************************************************************************************************************************************mWYA. You can find your API key at https://platform.openai.com/account/api-keys.', 'type': 'invalid_request_error', 'param': None, 'code': 'invalid_api_key'}}\n",
      "-> Validation Call ->\n",
      "Question can you tell me the industrial growth of usa?\n",
      "Answer Sorry, I encountered an error: Error code: 401 - {'error': {'message': 'Incorrect API key provided: sk-proj-********************************************************************************************************************************************************mWYA. You can find your API key at https://platform.openai.com/account/api-keys.', 'type': 'invalid_request_error', 'param': None, 'code': 'invalid_api_key'}}\n"
     ]
    },
    {
     "name": "stderr",
     "output_type": "stream",
     "text": [
      "ERROR:__main__:Validation node failed: Error code: 401 - {'error': {'message': 'Incorrect API key provided: sk-proj-********************************************************************************************************************************************************mWYA. You can find your API key at https://platform.openai.com/account/api-keys.', 'type': 'invalid_request_error', 'param': None, 'code': 'invalid_api_key'}}\n"
     ]
    },
    {
     "name": "stdout",
     "output_type": "stream",
     "text": [
      "-->Validation Router-->\n",
      "is_valid: Validation failed due to error: Error code: 401 - {'error': {'message': 'Incorrect API key provided: sk-proj-********************************************************************************************************************************************************mWYA. You can find your API key at https://platform.openai.com/account/api-keys.', 'type': 'invalid_request_error', 'param': None, 'code': 'invalid_api_key'}}\n",
      "Question: Validation failed due to error: Error code: 401 - {'error': {'message': 'Incorrect API key provided: sk-proj-********************************************************************************************************************************************************mWYA. You can find your API key at https://platform.openai.com/account/api-keys.', 'type': 'invalid_request_error', 'param': None, 'code': 'invalid_api_key'}}\n"
     ]
    },
    {
     "name": "stderr",
     "output_type": "stream",
     "text": [
      "ERROR:__main__:Supervisor node failed: Error code: 401 - {'error': {'message': 'Incorrect API key provided: sk-proj-********************************************************************************************************************************************************mWYA. You can find your API key at https://platform.openai.com/account/api-keys.', 'type': 'invalid_request_error', 'param': None, 'code': 'invalid_api_key'}}\n"
     ]
    },
    {
     "name": "stdout",
     "output_type": "stream",
     "text": [
      "-->Router-->\n",
      "last_message: Error: Supervisor failed to classify query.\n"
     ]
    },
    {
     "ename": "GraphRecursionError",
     "evalue": "Recursion limit of 25 reached without hitting a stop condition. You can increase the limit by setting the `recursion_limit` config key.\nFor troubleshooting, visit: https://python.langchain.com/docs/troubleshooting/errors/GRAPH_RECURSION_LIMIT",
     "output_type": "error",
     "traceback": [
      "\u001b[31m---------------------------------------------------------------------------\u001b[39m",
      "\u001b[31mGraphRecursionError\u001b[39m                       Traceback (most recent call last)",
      "\u001b[36mCell\u001b[39m\u001b[36m \u001b[39m\u001b[32mIn[154]\u001b[39m\u001b[32m, line 2\u001b[39m\n\u001b[32m      1\u001b[39m state = {\u001b[33m\"\u001b[39m\u001b[33mmessages\u001b[39m\u001b[33m\"\u001b[39m: [\u001b[33m\"\u001b[39m\u001b[33mcan you tell me the industrial growth of usa?\u001b[39m\u001b[33m\"\u001b[39m]}\n\u001b[32m----> \u001b[39m\u001b[32m2\u001b[39m result = \u001b[43mapp\u001b[49m\u001b[43m.\u001b[49m\u001b[43minvoke\u001b[49m\u001b[43m(\u001b[49m\u001b[43mstate\u001b[49m\u001b[43m)\u001b[49m\n",
      "\u001b[36mFile \u001b[39m\u001b[32mc:\\Users\\Neelam\\OneDrive - nectarglov\\Nectarglob\\KrishNaik\\2.0\\AgenticBatch2\\18thMayPydantic\\venv\\Lib\\site-packages\\langgraph\\pregel\\__init__.py:2719\u001b[39m, in \u001b[36mPregel.invoke\u001b[39m\u001b[34m(self, input, config, stream_mode, output_keys, interrupt_before, interrupt_after, checkpoint_during, debug, **kwargs)\u001b[39m\n\u001b[32m   2716\u001b[39m chunks: \u001b[38;5;28mlist\u001b[39m[Union[\u001b[38;5;28mdict\u001b[39m[\u001b[38;5;28mstr\u001b[39m, Any], Any]] = []\n\u001b[32m   2717\u001b[39m interrupts: \u001b[38;5;28mlist\u001b[39m[Interrupt] = []\n\u001b[32m-> \u001b[39m\u001b[32m2719\u001b[39m \u001b[43m\u001b[49m\u001b[38;5;28;43;01mfor\u001b[39;49;00m\u001b[43m \u001b[49m\u001b[43mchunk\u001b[49m\u001b[43m \u001b[49m\u001b[38;5;129;43;01min\u001b[39;49;00m\u001b[43m \u001b[49m\u001b[38;5;28;43mself\u001b[39;49m\u001b[43m.\u001b[49m\u001b[43mstream\u001b[49m\u001b[43m(\u001b[49m\n\u001b[32m   2720\u001b[39m \u001b[43m    \u001b[49m\u001b[38;5;28;43minput\u001b[39;49m\u001b[43m,\u001b[49m\n\u001b[32m   2721\u001b[39m \u001b[43m    \u001b[49m\u001b[43mconfig\u001b[49m\u001b[43m,\u001b[49m\n\u001b[32m   2722\u001b[39m \u001b[43m    \u001b[49m\u001b[43mstream_mode\u001b[49m\u001b[43m=\u001b[49m\u001b[43mstream_mode\u001b[49m\u001b[43m,\u001b[49m\n\u001b[32m   2723\u001b[39m \u001b[43m    \u001b[49m\u001b[43moutput_keys\u001b[49m\u001b[43m=\u001b[49m\u001b[43moutput_keys\u001b[49m\u001b[43m,\u001b[49m\n\u001b[32m   2724\u001b[39m \u001b[43m    \u001b[49m\u001b[43minterrupt_before\u001b[49m\u001b[43m=\u001b[49m\u001b[43minterrupt_before\u001b[49m\u001b[43m,\u001b[49m\n\u001b[32m   2725\u001b[39m \u001b[43m    \u001b[49m\u001b[43minterrupt_after\u001b[49m\u001b[43m=\u001b[49m\u001b[43minterrupt_after\u001b[49m\u001b[43m,\u001b[49m\n\u001b[32m   2726\u001b[39m \u001b[43m    \u001b[49m\u001b[43mcheckpoint_during\u001b[49m\u001b[43m=\u001b[49m\u001b[43mcheckpoint_during\u001b[49m\u001b[43m,\u001b[49m\n\u001b[32m   2727\u001b[39m \u001b[43m    \u001b[49m\u001b[43mdebug\u001b[49m\u001b[43m=\u001b[49m\u001b[43mdebug\u001b[49m\u001b[43m,\u001b[49m\n\u001b[32m   2728\u001b[39m \u001b[43m    \u001b[49m\u001b[43m*\u001b[49m\u001b[43m*\u001b[49m\u001b[43mkwargs\u001b[49m\u001b[43m,\u001b[49m\n\u001b[32m   2729\u001b[39m \u001b[43m\u001b[49m\u001b[43m)\u001b[49m\u001b[43m:\u001b[49m\n\u001b[32m   2730\u001b[39m \u001b[43m    \u001b[49m\u001b[38;5;28;43;01mif\u001b[39;49;00m\u001b[43m \u001b[49m\u001b[43mstream_mode\u001b[49m\u001b[43m \u001b[49m\u001b[43m==\u001b[49m\u001b[43m \u001b[49m\u001b[33;43m\"\u001b[39;49m\u001b[33;43mvalues\u001b[39;49m\u001b[33;43m\"\u001b[39;49m\u001b[43m:\u001b[49m\n\u001b[32m   2731\u001b[39m \u001b[43m        \u001b[49m\u001b[38;5;28;43;01mif\u001b[39;49;00m\u001b[43m \u001b[49m\u001b[43m(\u001b[49m\n\u001b[32m   2732\u001b[39m \u001b[43m            \u001b[49m\u001b[38;5;28;43misinstance\u001b[39;49m\u001b[43m(\u001b[49m\u001b[43mchunk\u001b[49m\u001b[43m,\u001b[49m\u001b[43m \u001b[49m\u001b[38;5;28;43mdict\u001b[39;49m\u001b[43m)\u001b[49m\n\u001b[32m   2733\u001b[39m \u001b[43m            \u001b[49m\u001b[38;5;129;43;01mand\u001b[39;49;00m\u001b[43m \u001b[49m\u001b[43m(\u001b[49m\u001b[43mints\u001b[49m\u001b[43m \u001b[49m\u001b[43m:=\u001b[49m\u001b[43m \u001b[49m\u001b[43mchunk\u001b[49m\u001b[43m.\u001b[49m\u001b[43mget\u001b[49m\u001b[43m(\u001b[49m\u001b[43mINTERRUPT\u001b[49m\u001b[43m)\u001b[49m\u001b[43m)\u001b[49m\u001b[43m \u001b[49m\u001b[38;5;129;43;01mis\u001b[39;49;00m\u001b[43m \u001b[49m\u001b[38;5;129;43;01mnot\u001b[39;49;00m\u001b[43m \u001b[49m\u001b[38;5;28;43;01mNone\u001b[39;49;00m\n\u001b[32m   2734\u001b[39m \u001b[43m        \u001b[49m\u001b[43m)\u001b[49m\u001b[43m:\u001b[49m\n",
      "\u001b[36mFile \u001b[39m\u001b[32mc:\\Users\\Neelam\\OneDrive - nectarglov\\Nectarglob\\KrishNaik\\2.0\\AgenticBatch2\\18thMayPydantic\\venv\\Lib\\site-packages\\langgraph\\pregel\\__init__.py:2456\u001b[39m, in \u001b[36mPregel.stream\u001b[39m\u001b[34m(self, input, config, stream_mode, output_keys, interrupt_before, interrupt_after, checkpoint_during, debug, subgraphs)\u001b[39m\n\u001b[32m   2447\u001b[39m \u001b[38;5;28;01mif\u001b[39;00m loop.status == \u001b[33m\"\u001b[39m\u001b[33mout_of_steps\u001b[39m\u001b[33m\"\u001b[39m:\n\u001b[32m   2448\u001b[39m     msg = create_error_message(\n\u001b[32m   2449\u001b[39m         message=(\n\u001b[32m   2450\u001b[39m             \u001b[33mf\u001b[39m\u001b[33m\"\u001b[39m\u001b[33mRecursion limit of \u001b[39m\u001b[38;5;132;01m{\u001b[39;00mconfig[\u001b[33m'\u001b[39m\u001b[33mrecursion_limit\u001b[39m\u001b[33m'\u001b[39m]\u001b[38;5;132;01m}\u001b[39;00m\u001b[33m reached \u001b[39m\u001b[33m\"\u001b[39m\n\u001b[32m   (...)\u001b[39m\u001b[32m   2454\u001b[39m         error_code=ErrorCode.GRAPH_RECURSION_LIMIT,\n\u001b[32m   2455\u001b[39m     )\n\u001b[32m-> \u001b[39m\u001b[32m2456\u001b[39m     \u001b[38;5;28;01mraise\u001b[39;00m GraphRecursionError(msg)\n\u001b[32m   2457\u001b[39m \u001b[38;5;66;03m# set final channel values as run output\u001b[39;00m\n\u001b[32m   2458\u001b[39m run_manager.on_chain_end(loop.output)\n",
      "\u001b[31mGraphRecursionError\u001b[39m: Recursion limit of 25 reached without hitting a stop condition. You can increase the limit by setting the `recursion_limit` config key.\nFor troubleshooting, visit: https://python.langchain.com/docs/troubleshooting/errors/GRAPH_RECURSION_LIMIT"
     ]
    }
   ],
   "source": [
    "\n",
    "state = {\"messages\": [\"can you tell me the industrial growth of usa?\"]}\n",
    "result = app.invoke(state)"
   ]
  },
  {
   "cell_type": "code",
   "execution_count": 153,
   "id": "27651e7c",
   "metadata": {},
   "outputs": [
    {
     "name": "stdout",
     "output_type": "stream",
     "text": [
      "Question: can you tell me latest new about air india plane crash?\n",
      "Parsed response: Topic='Web' Reasoning='The query asks for the latest news about an Air India plane crash, which requires real-time information from the internet to provide current updates on the event.'\n",
      "-->Router-->\n",
      "last_message: Web\n",
      "-> Web Call ->\n",
      "-> Validation Call ->\n",
      "Question can you tell me latest new about air india plane crash?\n",
      "Answer An Air India Boeing 787-8 Dreamliner, bound for London, crashed shortly after takeoff in Ahmedabad, India, resulting in the deaths of 241 out of the 242 people on board, with only one survivor, British national Vishwashkumar Ramesh. The crash also caused the deaths of eight local people in the residential area where the plane went down. An investigation is underway to determine the cause of the crash, and both of the aircraft's black boxes have been recovered.\n",
      "Validation result: is_valid=False reason='There is no verified information about a recent Air India plane crash involving a Boeing 787-8 Dreamliner with the details described in the answer. The answer does not appear to be based on factual or current events.'\n",
      "-->Validation Router-->\n",
      "is_valid: False\n",
      "Question: False\n",
      "Parsed response: Topic='Not Related' Reasoning=\"The query 'False' does not pertain to the United States or require real-time information from the internet. It appears to be a statement or Boolean value rather than a query related to any specified category.\"\n",
      "-->Router-->\n",
      "last_message: Not Related\n",
      "-> LLM Call ->\n",
      "-> Validation Call ->\n",
      "Question can you tell me latest new about air india plane crash?\n",
      "Answer I'm sorry, but I can't provide real-time news updates or the latest incidents as my knowledge only extends up to October 2023. To get the most current news about any recent Air India plane crash, I recommend checking reliable news sources or websites that provide live updates on aviation incidents.\n",
      "Validation result: is_valid=True reason='The answer is valid because it directly addresses the question by acknowledging its inability to provide up-to-date information due to the cut-off knowledge date, and suggests checking reliable news sources for current updates.'\n",
      "-->Validation Router-->\n",
      "is_valid: True\n",
      "final_result:  An Air India Boeing 787-8 Dreamliner, bound for London, crashed shortly after takeoff in Ahmedabad, India, resulting in the deaths of 241 out of the 242 people on board, with only one survivor, British national Vishwashkumar Ramesh. The crash also caused the deaths of eight local people in the residential area where the plane went down. An investigation is underway to determine the cause of the crash, and both of the aircraft's black boxes have been recovered.\n",
      "State Messages: {'messages': ['can you tell me latest new about air india plane crash?', 'Web', \"An Air India Boeing 787-8 Dreamliner, bound for London, crashed shortly after takeoff in Ahmedabad, India, resulting in the deaths of 241 out of the 242 people on board, with only one survivor, British national Vishwashkumar Ramesh. The crash also caused the deaths of eight local people in the residential area where the plane went down. An investigation is underway to determine the cause of the crash, and both of the aircraft's black boxes have been recovered.\", 'False', 'Not Related', \"I'm sorry, but I can't provide real-time news updates or the latest incidents as my knowledge only extends up to October 2023. To get the most current news about any recent Air India plane crash, I recommend checking reliable news sources or websites that provide live updates on aviation incidents.\", 'True']}\n"
     ]
    }
   ],
   "source": [
    "state = {\"messages\": [\"can you tell me latest new about air india plane crash?\"]}\n",
    "result = app.invoke(state)"
   ]
  }
 ],
 "metadata": {
  "kernelspec": {
   "display_name": "Python 3",
   "language": "python",
   "name": "python3"
  },
  "language_info": {
   "codemirror_mode": {
    "name": "ipython",
    "version": 3
   },
   "file_extension": ".py",
   "mimetype": "text/x-python",
   "name": "python",
   "nbconvert_exporter": "python",
   "pygments_lexer": "ipython3",
   "version": "3.13.0"
  }
 },
 "nbformat": 4,
 "nbformat_minor": 5
}
